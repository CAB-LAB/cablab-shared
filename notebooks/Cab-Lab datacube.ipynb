{
 "cells": [
  {
   "cell_type": "markdown",
   "metadata": {},
   "source": [
    "# Cab-Lab\n",
    "\n",
    "Welcome to Cab_Lab demo. In this notebook, a demonstration on how to access the data cube is presented."
   ]
  },
  {
   "cell_type": "code",
   "execution_count": null,
   "metadata": {
    "collapsed": false
   },
   "outputs": [],
   "source": [
    "from cablab import Cube\n",
    "from cablab.cube import CubeDataAccess\n",
    "from datetime import datetime"
   ]
  },
  {
   "cell_type": "markdown",
   "metadata": {},
   "source": [
    "Specify the cube location. This is the directory where \"data\" directory and \"cube.config\" file are located."
   ]
  },
  {
   "cell_type": "code",
   "execution_count": null,
   "metadata": {
    "collapsed": true
   },
   "outputs": [],
   "source": [
    "cube = Cube.open(\"/home/jovyan/work/datacube/cablab-datacube-0.2.0/low-res\")"
   ]
  },
  {
   "cell_type": "code",
   "execution_count": null,
   "metadata": {
    "collapsed": false
   },
   "outputs": [],
   "source": [
    "cube.data.variable_names"
   ]
  },
  {
   "cell_type": "markdown",
   "metadata": {},
   "source": [
    "##### Get the cube's data.\n",
    "\n",
    "get(variable=None, time=None, latitude=None, longitude=None)\n",
    "\n",
    "**variable** an variable index or name or an iterable returning multiple of these (var1, var2, ...)\n",
    "\n",
    "**time:** a single datetime.datetime object or a 2-element iterable (time_start, time_end)\n",
    "\n",
    "**latitude:** a single latitude value or a 2-element iterable (latitude_start, latitude_end)\n",
    "\n",
    "**longitude:** a single longitude value or a 2-element iterable (longitude_start, longitude_end)\n",
    "\n",
    "**return:** a dictionary mapping variable names --> data arrays of dimension (time, latitude, longitude)"
   ]
  },
  {
   "cell_type": "markdown",
   "metadata": {},
   "source": [
    "##### Get complete geo-location at a specific time"
   ]
  },
  {
   "cell_type": "code",
   "execution_count": null,
   "metadata": {
    "collapsed": false
   },
   "outputs": [],
   "source": [
    "precip_specific_time = cube.data.get(variable='precipitation', time=datetime(2002,1,1))"
   ]
  },
  {
   "cell_type": "markdown",
   "metadata": {},
   "source": [
    "##### Get complete time-series for the specified geo-location."
   ]
  },
  {
   "cell_type": "code",
   "execution_count": null,
   "metadata": {
    "collapsed": false
   },
   "outputs": [],
   "source": [
    "precip_specific_area = cube.data.get(\"precipitation\", None, (0,10), (10,20))"
   ]
  },
  {
   "cell_type": "code",
   "execution_count": null,
   "metadata": {
    "collapsed": false
   },
   "outputs": [],
   "source": [
    "precip_specific_area[0].shape"
   ]
  }
 ],
 "metadata": {
  "kernelspec": {
   "display_name": "Python 3",
   "language": "python",
   "name": "python3"
  },
  "language_info": {
   "codemirror_mode": {
    "name": "ipython",
    "version": 3
   },
   "file_extension": ".py",
   "mimetype": "text/x-python",
   "name": "python",
   "nbconvert_exporter": "python",
   "pygments_lexer": "ipython3",
   "version": "3.5.2"
  }
 },
 "nbformat": 4,
 "nbformat_minor": 0
}
