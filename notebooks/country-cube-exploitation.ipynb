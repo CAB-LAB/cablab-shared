{
 "cells": [
  {
   "cell_type": "code",
   "execution_count": null,
   "metadata": {
    "collapsed": false
   },
   "outputs": [],
   "source": [
    "import xarray as xr\n",
    "from cablab import Cube\n",
    "import numpy.ma as ma\n",
    "import numpy as np\n",
    "import pandas as pd\n",
    "%matplotlib inline\n",
    "import matplotlib.pyplot as plt\n",
    "from mpl_toolkits.basemap import Basemap\n",
    "import warnings\n",
    "warnings.filterwarnings('ignore')"
   ]
  },
  {
   "cell_type": "code",
   "execution_count": null,
   "metadata": {
    "collapsed": true
   },
   "outputs": [],
   "source": [
    "MERCATOR_PROJECTION = dict(projection='merc',llcrnrlat=-60,urcrnrlat=80, llcrnrlon=-180,urcrnrlon=180,lat_ts=20,resolution='c')\n",
    "ECKERT4_PROJECTION = dict(projection='eck4',lon_0=0,resolution='c')\n",
    "KAVRAYSKIY7_PROJECTION = dict(projection = \"kav7\", lon_0=0., resolution=None)"
   ]
  },
  {
   "cell_type": "code",
   "execution_count": null,
   "metadata": {
    "collapsed": false
   },
   "outputs": [],
   "source": [
    "country_cube_dataset = xr.open_dataset(\"/home/jovyan/work/datacube/country-cube-0.1.0/country_cube.nc\")\n",
    "country_cube_array = country_cube_dataset.to_array(dim=\"Indicator_Codes\")"
   ]
  },
  {
   "cell_type": "code",
   "execution_count": null,
   "metadata": {
    "collapsed": false
   },
   "outputs": [],
   "source": [
    "def plot_variable_2d(variable_name, year, title, projection = KAVRAYSKIY7_PROJECTION, save_image = False, **kwargs):\n",
    "    var_array = country_cube_array.sel(Indicator_Codes = variable_name,Year=year)\n",
    "    map_plot_ccube(var_array, title, proj = projection, save_me=save_image, **kwargs)\n",
    "\n",
    "def map_plot_ccube(single_var_array, title_str, **kwargs):\n",
    "    ESDC = Cube.open(\"/home/jovyan/work/datacube/cablab-datacube-0.2.3/low-res\")\n",
    "    country_code_map = \"/home/jovyan/work/datacube/country-cube-0.1.0/country-codes.csv\"\n",
    "    country_mask = ESDC.data.dataset(\"country_mask\")\n",
    "    water_mask = ESDC.data.dataset(\"water_mask\")\n",
    "    lons, lats = np.meshgrid(country_mask.lon,country_mask.lat)\n",
    "    country_mask_2D = country_mask[\"country_mask\"][0].values\n",
    "    water_mask_2D = water_mask[\"water_mask\"][0].values\n",
    "    cdict = read_ESDC_countrycodes(country_code_map)\n",
    "    idict = {v: k for k, v in cdict.items()}\n",
    "    \n",
    "    res, el = expand_to_latlon(single_var_array, country_mask_2D, idict)\n",
    "\n",
    "    ma_res = ma.array(res, mask =np.isnan(res))\n",
    "    \n",
    "    if \"vmin\" in kwargs:\n",
    "        vmin = kwargs[\"vmin\"] \n",
    "    else:\n",
    "        vmin = None\n",
    "    if \"vmax\" in kwargs:\n",
    "        vmax = kwargs[\"vmax\"] \n",
    "    else:\n",
    "        vmax = None\n",
    "    if \"proj\" in kwargs:\n",
    "        proj = kwargs[\"proj\"]\n",
    "    else:\n",
    "        proj = dict(projection = \"kav7\", lon_0=0., resolution=None)\n",
    "        \n",
    "    fig = plt.figure()\n",
    "    ax = fig.add_axes([0.05,0.05,0.9,0.9])\n",
    "    m = Basemap(**proj)\n",
    "    m.drawmapboundary(fill_color='0.3')\n",
    "    ccmap = plt.cm.jet\n",
    "    ccmap.set_bad(\"gray\",1.)\n",
    "    im = m.pcolormesh(lons,lats,ma_res,shading='flat',cmap=ccmap,latlon=True, vmin = vmin, vmax=vmax)\n",
    "    #im2 = m.pcolormesh(lons,lats,nodata,shading='flat',cmap=plt.cm.gist_gray,latlon=True)\n",
    "    m.drawparallels(np.arange(-90.,99.,30.))\n",
    "    m.drawmeridians(np.arange(-180.,180.,60.))\n",
    "    cb = m.colorbar(im,\"bottom\", size=\"5%\", pad=\"2%\")\n",
    "    ax.set_title(title_str)\n",
    "    if \"save_me\" in kwargs:\n",
    "        if kwargs[\"save_me\"] == True:\n",
    "            plt.savefig(title_str[0:15] + '.png',dpi = 600)\n",
    "    ESDC.close()\n",
    "    return fig, ax, m\n",
    "\n",
    "def read_ESDC_countrycodes(country_code_map_csv, code_type = 'ISO3166-1-Alpha-3'):\n",
    "    df = pd.read_csv(country_code_map_csv)\n",
    "    cc_dict = df.set_index('ISO3166-1-numeric').to_dict()\n",
    "    return cc_dict[code_type]\n",
    "\n",
    "def expand_to_latlon(dat_array, cm_2D, idict):\n",
    "    latlon_array = np.empty(cm_2D.shape)\n",
    "    latlon_array.fill(np.nan)\n",
    "    for el in dat_array:\n",
    "        #print(el.Country_Codes.values, str(el.Country_Codes.values) in idict)\n",
    "        if str(el.Country_Codes.values) in idict:\n",
    "            cv = idict[str(el.Country_Codes.values)]\n",
    "            ii = cm_2D == cv\n",
    "            #print(ii.shape, latlon_array.shape)\n",
    "            latlon_array[ii] = el.values\n",
    "        # el.Country_Codes.values == \"ABW\" \n",
    "    return latlon_array, el\n",
    "\n",
    "def plot_covariance(variable1_name, variable2_name, title):\n",
    "    variable1 = country_cube_array.sel(Indicator_Codes = variable1_name)\n",
    "    variable2 = country_cube_array.sel(Indicator_Codes = variable2_name)\n",
    "    cov = get_covariance(variable1, variable2)\n",
    "    map_plot_ccube(cov, title)\n",
    "\n",
    "def plot_corr_coeff(variable1_name, variable2_name, title):\n",
    "    variable1 = country_cube_array.sel(Indicator_Codes = variable1_name)\n",
    "    variable2 = country_cube_array.sel(Indicator_Codes = variable2_name)\n",
    "    cov = get_covariance(variable1, variable2)\n",
    "    variable1_std = variable1.std(dim=\"Year\")\n",
    "    variable2_std = variable2.std(dim=\"Year\")\n",
    "    corr_coeff = get_corr_coeff(cov, variable1_std, variable2_std)\n",
    "    map_plot_ccube(corr_coeff, title)\n",
    "    \n",
    "def get_covariance(variable1_array, variable2_array):\n",
    "    X = (variable1_array - variable1_array.mean(dim=\"Year\", skipna=True))\n",
    "    Y = (variable2_array - variable2_array.mean(dim=\"Year\", skipna=True))\n",
    "    xxyy = X * Y\n",
    "    return xxyy.mean(dim=\"Year\")\n",
    "\n",
    "def get_corr_coeff(cov, std1, std2):\n",
    "    return cov / (std1 * std2)"
   ]
  },
  {
   "cell_type": "code",
   "execution_count": null,
   "metadata": {
    "collapsed": false
   },
   "outputs": [],
   "source": [
    "burnt_area_2010 = country_cube_array.sel(Indicator_Codes = \"burnt_area\",Year=2010)"
   ]
  },
  {
   "cell_type": "code",
   "execution_count": null,
   "metadata": {
    "collapsed": false
   },
   "outputs": [],
   "source": [
    "plot_variable_2d(\"evaporation\", 2010, \"Evaporation, ESDC, 2010\", projection = MERCATOR_PROJECTION, save_image=True)\n",
    "\n",
    "plot_variable_2d(\"SP.POP.GROW\", 2010, \"Annual Population Growth [%], 2010, Worldbank\", vmin = -2.,vmax = 4.)\n",
    "\n",
    "plot_variable_2d(\"NY.GDP.PCAP.CD\", 2010, \"GDP per capita [$], 2010, Worldbank\", projection = ECKERT4_PROJECTION, vmin = 0.,vmax = 50000.)\n"
   ]
  },
  {
   "cell_type": "code",
   "execution_count": null,
   "metadata": {
    "collapsed": true
   },
   "outputs": [],
   "source": [
    "burnt_area = country_cube_array.sel(Indicator_Codes = \"burnt_area\")\n",
    "pop_growth = country_cube_array.sel(Indicator_Codes = \"SP.POP.GROW\")\n",
    "burnt_area_pop_growth_cov = get_covariance(burnt_area, pop_growth)"
   ]
  },
  {
   "cell_type": "code",
   "execution_count": null,
   "metadata": {
    "collapsed": false
   },
   "outputs": [],
   "source": [
    "plot_covariance(\"air_temperature_2m\", \"NY.GDP.PCAP.CD\", \"Covariance of air temperature and GDP per capita\")"
   ]
  },
  {
   "cell_type": "code",
   "execution_count": null,
   "metadata": {
    "collapsed": true
   },
   "outputs": [],
   "source": [
    "plot_corr_coeff(\"precipitation\", \"NV.AGR.TOTL.ZS\", \"Correlation coefficient of precipitation and Agriculture, value added (% of GDP)\")"
   ]
  }
 ],
 "metadata": {
  "anaconda-cloud": {},
  "kernelspec": {
   "display_name": "Python [default]",
   "language": "python",
   "name": "python3"
  },
  "language_info": {
   "codemirror_mode": {
    "name": "ipython",
    "version": 3
   },
   "file_extension": ".py",
   "mimetype": "text/x-python",
   "name": "python",
   "nbconvert_exporter": "python",
   "pygments_lexer": "ipython3",
   "version": "3.5.2"
  }
 },
 "nbformat": 4,
 "nbformat_minor": 1
}
