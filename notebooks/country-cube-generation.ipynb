{
 "cells": [
  {
   "cell_type": "code",
   "execution_count": null,
   "metadata": {
    "collapsed": false
   },
   "outputs": [],
   "source": [
    "import sys\n",
    "import pandas as pd\n",
    "import os\n",
    "import numpy as np\n",
    "import numpy.ma as ma\n",
    "import xarray as xr\n",
    "# this requires a python setup.py develop in the cablab-core and the gidtools parent directory\n",
    "from cablab import Cube\n",
    "from cablab import Cube\n",
    "from cablab.cube import CubeDataAccess\n",
    "from datetime import datetime\n",
    "%matplotlib inline\n",
    "import matplotlib.pyplot as plt\n",
    "from mpl_toolkits.basemap import Basemap\n",
    "import warnings\n",
    "warnings.filterwarnings('ignore')\n",
    "\n",
    "__author__ = \"gunbra32\"\n",
    "\n",
    "# data sources: \n",
    "# worldbank WDI: http://databank.worldbank.org/data/download/WDI_csv.zip\n",
    "# country codes: https://github.com/datasets/country-codes/tree/master/data\n",
    "# Country Code Map: https://cran.r-project.org/web/packages/rworldmap/index.html\n",
    "\n",
    "def read_merge_worldbank(path):\n",
    "    data = dict()\n",
    "    for root, sub_dirs, files in os.walk(path):\n",
    "        #print(root, sub_dirs,files)\n",
    "        for dir in sub_dirs:\n",
    "            dir_path = os.path.join(root,dir)\n",
    "            file_names = os.listdir(dir_path)\n",
    "            for file in file_names:\n",
    "                if '_Data.csv' in file:\n",
    "                    print(\"Reading %s %s\" % (dir_path, file))\n",
    "                    data[file.split(\".\")[0]] = pd.read_csv(os.path.join(dir_path,file),encoding= 'cp1252')\n",
    "                    data[file.split(\".\")[0]].sort_values([\"Country Code\"], inplace = True)\n",
    "                    #print(data[file.split(\".\")[0]].duplicated)\n",
    "                    #data[file.split(\".\")[0]].drop_duplicates(inplace = True)\n",
    "                    \n",
    "    merged_df = pd.concat([data[df] for df in data], ignore_index=True)\n",
    "    merged_df.reset_index(drop=True, inplace = True)\n",
    "    #merged_df.drop_duplicates(subset = [\"Country Code\", \"Indicator Code\"],inplace=True)\n",
    "    merged_df.duplicated(subset=[\"Country Code\", \"Indicator Code\"]).sum()\n",
    "    # fix worldbank country codes to match iso 3166 - error prone... check frequently. \n",
    "    merged_df[\"Country Code\"].replace(\"ROM\",\"ROU\", inplace=True)\n",
    "    merged_df[\"Country Code\"].replace(\"ZAR\",\"COD\", inplace=True)\n",
    "    return merged_df, data\n",
    "\n",
    "def retrieve_dimensions(df, country_col= \"Country Code\", indicator_col = \"Indicator Code\", dates = None, mintime = 2001):\n",
    "    dims = dict()\n",
    "    if dates is None: \n",
    "        print(\"Retrieving dates from Column names - this is dangerous! Check result for consistency! \")\n",
    "        dims[\"time\"] = [col for col in df.columns if col.isdigit() and int(col) > mintime and int(col) <2150]\n",
    "        dims[\"itime\"] = [int(i) for i in dims[\"time\"]]\n",
    "        \n",
    "    dims[\"indicators\"] = df[indicator_col].sort_values().unique() \n",
    "    dims[\"countries\"] = df[country_col].unique()\n",
    "    return dims\n",
    "    \n",
    "def cube_worldbank(df, data_dims, country_col= \"Country Code\", indicator_col = \"Indicator Code\"):\n",
    "    print(\"Starting Country Cube generation...\")\n",
    "    dg = df.groupby((country_col, indicator_col))\n",
    "                                                \n",
    "    ds = create_DataArray(data_dims)\n",
    "    for name, grp in dg: \n",
    "        ds.loc[name] = np.array(dg.get_group(name)[data_dims[\"time\"]].mean(axis=0, skipna=True))\n",
    "        \n",
    "    return ds\n",
    "\n",
    "def create_DataArray(data_dims):\n",
    "    array_size = (len(data_dims[\"countries\"]), len(data_dims[\"indicators\"]), len(data_dims[\"time\"])) \n",
    "    a = np.empty(array_size)\n",
    "    a.fill(np.nan)\n",
    "    ds = xr.DataArray( a, coords=[data_dims[\"countries\"],data_dims[\"indicators\"],data_dims[\"itime\"]],\n",
    "                     dims = [\"Country_Codes\",\"Indicator_Codes\",\"Year\"])\n",
    "    return ds\n",
    "\n",
    "def cube_ESDC(ESDC, data_dims,cdict):\n",
    "    cm = ESDC.data.dataset(\"country_mask\")\n",
    "    cm_2D=cm[\"country_mask\"][0].values\n",
    "    cm_unique = np.unique(cm_2D[~np.isnan(cm_2D)])\n",
    "    data_dims[\"indicators\"] = ESDC.data.variable_names\n",
    "    ds = create_DataArray(data_dims)\n",
    "    for var in ESDC.data.variable_names:\n",
    "        if(\"_mask\" not in var):\n",
    "            print(var)\n",
    "            annual_av= ESDC.data.dataset(var).groupby(\"time.year\").mean(dim=\"time\")\n",
    "            for year in annual_av[\"year\"].values:\n",
    "                tmp=annual_av[var].sel(year=year)\n",
    "                for cc in cm_unique:\n",
    "                    cm_bool = cm_2D==cc\n",
    "                    if(numeric_to_ISO_code(cc,cdict) is not None and numeric_to_ISO_code(cc,cdict) in ds[\"Country_Codes\"].values and str(year) in data_dims[\"time\"] and (tmp.values[cm_bool].size is not 0)):\n",
    "                        ds.loc[dict(Country_Codes=numeric_to_ISO_code(cc,cdict),Indicator_Codes=var,Year=year)] = np.nanmean(tmp.values[cm_bool])\n",
    "    return ds\n",
    "\n",
    "def numeric_to_ISO_code(cc,cdict):\n",
    "    if (cc in cdict.keys()):\n",
    "        return cdict[cc]\n",
    "    else:\n",
    "        return None  \n",
    "\n",
    "def read_ESDC_countrycodes(path_to_csv, col = 'ISO3166-1-Alpha-3'):\n",
    "    df = pd.read_csv(pp)\n",
    "    cc_dict = df.set_index('ISO3166-1-numeric').to_dict()\n",
    "    return cc_dict[col]\n"
   ]
  },
  {
   "cell_type": "code",
   "execution_count": null,
   "metadata": {
    "collapsed": true
   },
   "outputs": [],
   "source": [
    "path_WB = '/home/jovyan/work/datacube/worldbank-development-indicators-20161014'\n",
    "ESDC = Cube.open(\"/home/jovyan/work/datacube/cablab-datacube-0.2.3/low-res\")\n",
    "pp = \"/home/jovyan/work/datacube/country-cube-0.1.0/country-codes.csv\""
   ]
  },
  {
   "cell_type": "code",
   "execution_count": null,
   "metadata": {
    "collapsed": false
   },
   "outputs": [],
   "source": [
    "merged_df, data = read_merge_worldbank(path_WB)\n",
    "data_dims = retrieve_dimensions(merged_df)\n",
    "cube = cube_worldbank(merged_df, data_dims)\n",
    "print(\"Done cubing the Worldbank data.\")"
   ]
  },
  {
   "cell_type": "code",
   "execution_count": null,
   "metadata": {
    "collapsed": false
   },
   "outputs": [],
   "source": [
    "print(\"Start country-cubing the ESDC\")\n",
    "\n",
    "cdict = read_ESDC_countrycodes(pp)\n",
    "dedes = cube_ESDC(ESDC,data_dims.copy(),cdict)\n",
    "FullCube = xr.concat([cube,dedes],'Indicator_Codes')\n",
    "\n",
    "print(\"Done country-cubing the ESDC\")"
   ]
  },
  {
   "cell_type": "code",
   "execution_count": null,
   "metadata": {
    "collapsed": true
   },
   "outputs": [],
   "source": [
    "FullCube.to_dataset(dim=\"Indicator_Codes\").to_netcdf(path=\"country_cube.nc\")"
   ]
  },
  {
   "cell_type": "code",
   "execution_count": null,
   "metadata": {
    "collapsed": true
   },
   "outputs": [],
   "source": []
  }
 ],
 "metadata": {
  "anaconda-cloud": {},
  "kernelspec": {
   "display_name": "Python 3",
   "language": "python",
   "name": "python3"
  },
  "language_info": {
   "codemirror_mode": {
    "name": "ipython",
    "version": 3
   },
   "file_extension": ".py",
   "mimetype": "text/x-python",
   "name": "python",
   "nbconvert_exporter": "python",
   "pygments_lexer": "ipython3",
   "version": "3.5.2"
  }
 },
 "nbformat": 4,
 "nbformat_minor": 0
}
