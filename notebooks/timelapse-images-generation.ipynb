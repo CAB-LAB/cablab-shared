{
 "cells": [
  {
   "cell_type": "code",
   "execution_count": null,
   "metadata": {
    "collapsed": false
   },
   "outputs": [],
   "source": [
    "import os, shutil\n",
    "import matplotlib.pyplot as plt\n",
    "from cablab import Cube"
   ]
  },
  {
   "cell_type": "code",
   "execution_count": null,
   "metadata": {
    "collapsed": true
   },
   "outputs": [],
   "source": [
    "def get_single_cube_data(cube_version, resolution_type, variable_name):\n",
    "    cube_path = \"/home/jovyan/work/datacube/cablab-datacube-%s/%s\" % (cube_version, resolution_type)\n",
    "    cube = Cube.open(cube_path)\n",
    "    return cube.data.get(variable=variable_name)[0]\n",
    "\n",
    "def generate_per_time_images(cube_data, directory, file_name):\n",
    "    if(os.path.exists(directory)):\n",
    "        shutil.rmtree(directory)\n",
    "    os.mkdir(directory)\n",
    "    time_dims = cube_data.isel(lat=0,lon=0)\n",
    "    num_time_steps = len(time_dims.values)\n",
    "    for i in range(num_time_steps):\n",
    "        plt.imshow(cube_data[i])\n",
    "        plt.savefig('%s/%s[%s].png' % (directory, file_name, i),dpi = 600)"
   ]
  },
  {
   "cell_type": "code",
   "execution_count": null,
   "metadata": {
    "collapsed": false
   },
   "outputs": [],
   "source": [
    "cube_data = get_single_cube_data(\"0.2.3\", \"low-res\", \"precipitation\")\n",
    "generate_per_time_images(cube_data, \"precipitation\", \"precip\")"
   ]
  },
  {
   "cell_type": "code",
   "execution_count": null,
   "metadata": {
    "collapsed": true
   },
   "outputs": [],
   "source": []
  }
 ],
 "metadata": {
  "anaconda-cloud": {},
  "kernelspec": {
   "display_name": "Python [default]",
   "language": "python",
   "name": "python3"
  },
  "language_info": {
   "codemirror_mode": {
    "name": "ipython",
    "version": 3
   },
   "file_extension": ".py",
   "mimetype": "text/x-python",
   "name": "python",
   "nbconvert_exporter": "python",
   "pygments_lexer": "ipython3",
   "version": "3.5.2"
  }
 },
 "nbformat": 4,
 "nbformat_minor": 1
}
