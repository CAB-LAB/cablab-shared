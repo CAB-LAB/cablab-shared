{
 "cells": [
  {
   "cell_type": "markdown",
   "metadata": {},
   "source": [
    "# Data Access example \n",
    "\n",
    "In this notebook, data access using CABLAB's Python API is demonstrated. "
   ]
  },
  {
   "cell_type": "code",
   "execution_count": 1,
   "metadata": {
    "collapsed": true
   },
   "outputs": [],
   "source": [
    "from cablab import Cube\n",
    "from cablab import CubeData\n",
    "from datetime import datetime\n",
    "import numpy as np"
   ]
  },
  {
   "cell_type": "code",
   "execution_count": 2,
   "metadata": {
    "collapsed": true
   },
   "outputs": [],
   "source": [
    "cube = Cube.open(\"C:\\\\Users\\\\gunnar\\\\src\\\\CABLAB\\\\testcube\")\n",
    "cube_reader = CubeData(cube)"
   ]
  },
  {
   "cell_type": "code",
   "execution_count": 3,
   "metadata": {
    "collapsed": false
   },
   "outputs": [
    {
     "data": {
      "text/plain": [
       "{'BurntArea': 0,\n",
       " 'Emission': 1,\n",
       " 'Ozone': 2,\n",
       " 'Precip': 3,\n",
       " 'SoilMoisture': 4,\n",
       " 'tcwv_res': 5}"
      ]
     },
     "execution_count": 3,
     "metadata": {},
     "output_type": "execute_result"
    }
   ],
   "source": [
    "cube_reader.variable_names"
   ]
  },
  {
   "cell_type": "markdown",
   "metadata": {},
   "source": [
    "##### Get the cube's data.\n",
    "\n",
    "get(variable=None, time=None, latitude=None, longitude=None)\n",
    "\n",
    "**variable** an variable index or name or an iterable returning multiple of these (var1, var2, ...\n",
    "\n",
    "**time:** a single datetime.datetime object or a 2-element iterable (time_start, time_end)\n",
    "\n",
    "**latitude:** a single latitude value or a 2-element iterable (latitude_start, latitude_end)\n",
    "\n",
    "**longitude:** a single longitude value or a 2-element iterable (longitude_start, longitude_end)\n",
    "\n",
    "**return:** a dictionary mapping variable names --> data arrays of dimension (time, latitude, longitude)"
   ]
  },
  {
   "cell_type": "markdown",
   "metadata": {},
   "source": [
    " ** Getting a chunk of 1 variable, all available time steps, and 40 x 40 spatial grid points **:\n"
   ]
  },
  {
   "cell_type": "code",
   "execution_count": 5,
   "metadata": {
    "collapsed": false
   },
   "outputs": [
    {
     "data": {
      "text/plain": [
       "(1, 457, 40, 40)"
      ]
     },
     "execution_count": 5,
     "metadata": {},
     "output_type": "execute_result"
    }
   ],
   "source": [
    "precip_chunk = cube_reader.get('Precip',None,(0,10),(0,10))\n",
    "np.array(precip_chunk).shape"
   ]
  },
  {
   "cell_type": "markdown",
   "metadata": {},
   "source": [
    "** Getting time-series at a single point of all variables for the entire period: **"
   ]
  },
  {
   "cell_type": "code",
   "execution_count": 6,
   "metadata": {
    "collapsed": false
   },
   "outputs": [
    {
     "data": {
      "text/plain": [
       "[(457,), (457,), (457,), (457,), (457,), (368,)]"
      ]
     },
     "execution_count": 6,
     "metadata": {},
     "output_type": "execute_result"
    }
   ],
   "source": [
    "time_series = cube_reader.get(None,None,51.34,8.23)\n",
    "[var.shape for var in time_series]\n"
   ]
  },
  {
   "cell_type": "markdown",
   "metadata": {},
   "source": [
    "##### Getting a complete global image of a variable at  a specific time"
   ]
  },
  {
   "cell_type": "code",
   "execution_count": 9,
   "metadata": {
    "collapsed": false
   },
   "outputs": [
    {
     "data": {
      "text/plain": [
       "(1, 720, 1440)"
      ]
     },
     "execution_count": 9,
     "metadata": {},
     "output_type": "execute_result"
    }
   ],
   "source": [
    "Emission_single_image = cube_reader.get('Emission', datetime(2002,1,1))\n",
    "np.array(Emission_single_image).shape"
   ]
  },
  {
   "cell_type": "code",
   "execution_count": 10,
   "metadata": {
    "collapsed": true
   },
   "outputs": [],
   "source": [
    "cube.close()"
   ]
  },
  {
   "cell_type": "code",
   "execution_count": null,
   "metadata": {
    "collapsed": true
   },
   "outputs": [],
   "source": [
    "%matplotlib inline\n",
    "import matplotlib.pyplot as plt"
   ]
  },
  {
   "cell_type": "markdown",
   "metadata": {},
   "source": [
    "##### Generate a time series"
   ]
  },
  {
   "cell_type": "code",
   "execution_count": null,
   "metadata": {
    "collapsed": true
   },
   "outputs": [],
   "source": [
    "precip_specific_area[0][precip_specific_area[0]<0]=float('NaN')\n",
    "plt.plot(precip_specific_area[0][:,2,3]);"
   ]
  },
  {
   "cell_type": "markdown",
   "metadata": {},
   "source": [
    "##### Multivariate plots"
   ]
  },
  {
   "cell_type": "code",
   "execution_count": null,
   "metadata": {
    "collapsed": true
   },
   "outputs": [],
   "source": [
    "emission_specific_area = cube_reader.get('Emission', None, (0,10), (10,20))\n",
    "plt.plot(range(0,457),emission_specific_area[0][:,2,3]/3,\"-\",precip_specific_area[0][:,2,3],\"-\");"
   ]
  },
  {
   "cell_type": "code",
   "execution_count": null,
   "metadata": {
    "collapsed": true
   },
   "outputs": [],
   "source": [
    "from mpl_toolkits.basemap import Basemap\n",
    "import numpy as np"
   ]
  },
  {
   "cell_type": "code",
   "execution_count": null,
   "metadata": {
    "collapsed": true
   },
   "outputs": [],
   "source": [
    "lon = np.linspace(-180,180,1440)\n",
    "lat = np.linspace(90,-90,720)\n",
    "lons, lats = np.meshgrid(lon,lat)"
   ]
  },
  {
   "cell_type": "code",
   "execution_count": null,
   "metadata": {
    "collapsed": true
   },
   "outputs": [],
   "source": [
    "fig = plt.figure()\n",
    "ax = fig.add_axes([0.05,0.05,0.9,0.9])\n",
    "m = Basemap(projection='kav7',lon_0=0,resolution=None)\n",
    "m.drawmapboundary(fill_color='0.3')\n",
    "im1 = m.pcolormesh(lons,lats,precip_specific_time[0],shading='flat',cmap=plt.cm.jet,latlon=True)\n",
    "m.drawparallels(np.arange(-90.,99.,30.))\n",
    "m.drawmeridians(np.arange(-180.,180.,60.))\n",
    "cb = m.colorbar(im1,\"bottom\", size=\"5%\", pad=\"2%\")\n",
    "ax.set_title('Precipitation')"
   ]
  }
 ],
 "metadata": {
  "kernelspec": {
   "display_name": "Python 3",
   "language": "python",
   "name": "python3"
  },
  "language_info": {
   "codemirror_mode": {
    "name": "ipython",
    "version": 3
   },
   "file_extension": ".py",
   "mimetype": "text/x-python",
   "name": "python",
   "nbconvert_exporter": "python",
   "pygments_lexer": "ipython3",
   "version": "3.5.0"
  }
 },
 "nbformat": 4,
 "nbformat_minor": 0
}
