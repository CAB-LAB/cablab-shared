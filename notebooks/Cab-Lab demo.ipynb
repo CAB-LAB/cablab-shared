{
 "cells": [
  {
   "cell_type": "markdown",
   "metadata": {},
   "source": [
    "# Cab-Lab\n",
    "\n",
    "Welcome to Cab_Lab demo. In this notebook, a demonstration on how to access the data cube is presented."
   ]
  },
  {
   "cell_type": "code",
   "execution_count": 1,
   "metadata": {},
   "outputs": [],
   "source": [
    "from cablab import Cube\n",
    "from cablab import CubeData\n",
    "from datetime import datetime"
   ]
  },
  {
   "cell_type": "markdown",
   "metadata": {},
   "source": [
    "Specify the cube location. This is the directory where \"data\" directory and \"cube.config\" file are located."
   ]
  },
  {
   "cell_type": "code",
   "execution_count": 2,
   "metadata": {},
   "outputs": [],
   "source": [
    "cube = Cube.open(\"C:\\\\Projects\\\\cab-lab\\\\cablab-core\\\\cablab-core\\\\test\\\\providers\\\\testcube\")\n",
    "cube_reader = CubeData(cube)"
   ]
  },
  {
   "cell_type": "code",
   "execution_count": 3,
   "metadata": {},
   "outputs": [],
   "source": [
    "cube_reader.variable_names"
   ]
  },
  {
   "cell_type": "markdown",
   "metadata": {},
   "source": [
    "##### Get the cube's data.\n",
    "\n",
    "get(variable=None, time=None, latitude=None, longitude=None)\n",
    "\n",
    "**variable** an variable index or name or an iterable returning multiple of these (var1, var2, ...)\n",
    "\n",
    "**time:** a single datetime.datetime object or a 2-element iterable (time_start, time_end)\n",
    "\n",
    "**latitude:** a single latitude value or a 2-element iterable (latitude_start, latitude_end)\n",
    "\n",
    "**longitude:** a single longitude value or a 2-element iterable (longitude_start, longitude_end)\n",
    "\n",
    "**return:** a dictionary mapping variable names --> data arrays of dimension (time, latitude, longitude)"
   ]
  },
  {
   "cell_type": "markdown",
   "metadata": {},
   "source": [
    "##### Get complete geo-location at a specific time"
   ]
  },
  {
   "cell_type": "code",
   "execution_count": 4,
   "metadata": {},
   "outputs": [],
   "source": [
    "burnt_area_specific_time = cube_reader.get(0, datetime(2001,1,1))"
   ]
  },
  {
   "cell_type": "markdown",
   "metadata": {},
   "source": [
    "##### Get complete time-series for the specified geo-location."
   ]
  },
  {
   "cell_type": "code",
   "execution_count": 11,
   "metadata": {},
   "outputs": [],
   "source": [
    "burnt_area_specific_area = cube_reader.get(5, None, (10,20), (0,20))"
   ]
  },
  {
   "cell_type": "code",
   "execution_count": 12,
   "metadata": {},
   "outputs": [
    {
     "data": {
      "text/plain": [
       "(503, 40, 80)"
      ]
     },
     "execution_count": 12,
     "output_type": "execute_result",
     "metadata": {}
    }
   ],
   "source": [
    "burnt_area_specific_area[0].shape"
   ]
  },
  {
   "cell_type": "code",
   "execution_count": 13,
   "metadata": {},
   "outputs": [],
   "source": [
    "cube.close()"
   ]
  },
  {
   "cell_type": "code",
   "execution_count": null,
   "metadata": {},
   "outputs": [],
   "source": [
    ""
   ]
  }
 ],
 "metadata": {
  "kernelspec": {
   "display_name": "Python 3",
   "language": "python",
   "name": "python3"
  },
  "language_info": {
   "codemirror_mode": {
    "name": "ipython",
    "version": 3.0
   },
   "file_extension": ".py",
   "mimetype": "text/x-python",
   "name": "python",
   "nbconvert_exporter": "python",
   "pygments_lexer": "ipython3",
   "version": "3.4.0"
  }
 },
 "nbformat": 4,
 "nbformat_minor": 0
}