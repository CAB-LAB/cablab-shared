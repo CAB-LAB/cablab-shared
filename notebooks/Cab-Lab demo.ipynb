{
 "cells": [
  {
   "cell_type": "markdown",
   "metadata": {},
   "source": [
    "# Cab-Lab\n",
    "\n",
    "Welcome to Cab_Lab demo. In this notebook, a demonstration on how to access the data cube is presented."
   ]
  },
  {
   "cell_type": "code",
   "execution_count": 3,
   "metadata": {
    "collapsed": false
   },
   "outputs": [],
   "source": [
    "from cablab import Cube\n",
    "from cablab import CubeData\n",
    "from datetime import datetime"
   ]
  },
  {
   "cell_type": "markdown",
   "metadata": {},
   "source": [
    "Specify the cube location. This is the directory where \"data\" directory and \"cube.config\" file are located."
   ]
  },
  {
   "cell_type": "code",
   "execution_count": null,
   "metadata": {
    "collapsed": true
   },
   "outputs": [],
   "source": [
    "cube = Cube.open(\"C:\\\\Projects\\\\cab-lab\\\\cablab-core\\\\cablab-core\\\\test\\\\providers\\\\testcube\")\n",
    "cube_reader = CubeData(cube)"
   ]
  },
  {
   "cell_type": "code",
   "execution_count": null,
   "metadata": {
    "collapsed": false
   },
   "outputs": [],
   "source": [
    "cube_reader.variable_names"
   ]
  },
  {
   "cell_type": "markdown",
   "metadata": {},
   "source": [
    "##### Get the cube's data.\n",
    "\n",
    "get(variable=None, time=None, latitude=None, longitude=None)\n",
    "\n",
    "**variable** an variable index or name or an iterable returning multiple of these (var1, var2, ...)\n",
    "\n",
    "**time:** a single datetime.datetime object or a 2-element iterable (time_start, time_end)\n",
    "\n",
    "**latitude:** a single latitude value or a 2-element iterable (latitude_start, latitude_end)\n",
    "\n",
    "**longitude:** a single longitude value or a 2-element iterable (longitude_start, longitude_end)\n",
    "\n",
    "**return:** a dictionary mapping variable names --> data arrays of dimension (time, latitude, longitude)"
   ]
  },
  {
   "cell_type": "markdown",
   "metadata": {},
   "source": [
    "##### Get complete geo-location at a specific time"
   ]
  },
  {
   "cell_type": "code",
   "execution_count": null,
   "metadata": {
    "collapsed": true
   },
   "outputs": [],
   "source": [
    "precip_specific_time = cube_reader.get('Precip', datetime(2002,1,1))"
   ]
  },
  {
   "cell_type": "markdown",
   "metadata": {},
   "source": [
    "##### Get complete time-series for the specified geo-location."
   ]
  },
  {
   "cell_type": "code",
   "execution_count": null,
   "metadata": {
    "collapsed": false
   },
   "outputs": [],
   "source": [
    "precip_specific_area = cube_reader.get(\"Precip\", None, (0,10), (10,20))"
   ]
  },
  {
   "cell_type": "code",
   "execution_count": null,
   "metadata": {
    "collapsed": false
   },
   "outputs": [],
   "source": [
    "precip_specific_area[0].shape"
   ]
  },
  {
   "cell_type": "code",
   "execution_count": null,
   "metadata": {
    "collapsed": true
   },
   "outputs": [],
   "source": [
    "cube.close()"
   ]
  },
  {
   "cell_type": "markdown",
   "metadata": {},
   "source": [
    "##### Generate a simple map"
   ]
  },
  {
   "cell_type": "code",
   "execution_count": null,
   "metadata": {
    "collapsed": false
   },
   "outputs": [],
   "source": [
    "%matplotlib inline\n",
    "import matplotlib.pyplot as plt\n",
    "\n",
    "precip_specific_time[0][precip_specific_time[0]<0]=float('NaN')\n",
    "plt.imshow(precip_specific_time[0])\n",
    "plt.axis('off');"
   ]
  },
  {
   "cell_type": "markdown",
   "metadata": {},
   "source": [
    "##### And a time series"
   ]
  },
  {
   "cell_type": "code",
   "execution_count": null,
   "metadata": {
    "collapsed": false
   },
   "outputs": [],
   "source": [
    "precip_specific_area[0][precip_specific_area[0]<0]=float('NaN')\n",
    "plt.plot(precip_specific_area[0][:,2,3]);"
   ]
  },
  {
   "cell_type": "markdown",
   "metadata": {},
   "source": [
    "##### Multivariate plots"
   ]
  },
  {
   "cell_type": "code",
   "execution_count": null,
   "metadata": {
    "collapsed": true
   },
   "outputs": [],
   "source": [
    "emission_specific_area = cube_reader.get('Emission', None, (0,10), (10,20))\n",
    "plt.plot(range(0,457),emission_specific_area[0][:,2,3]/3,\"-\",precip_specific_area[0][:,2,3],\"-\");"
   ]
  }
 ],
 "metadata": {
  "kernelspec": {
   "display_name": "Python 3",
   "language": "python",
   "name": "python3"
  },
  "language_info": {
   "codemirror_mode": {
    "name": "ipython",
    "version": 3
   },
   "file_extension": ".py",
   "mimetype": "text/x-python",
   "name": "python",
   "nbconvert_exporter": "python",
   "pygments_lexer": "ipython3",
   "version": "3.4.3"
  }
 },
 "nbformat": 4,
 "nbformat_minor": 0
}
