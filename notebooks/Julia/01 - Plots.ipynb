{
 "cells": [
  {
   "cell_type": "markdown",
   "metadata": {},
   "source": [
    "In this notebook we will demonstrate the plotting capabilities of the `CABLAB.jl` framework. I have to stress that this not meant to be a full-featured visualization tool, so the formatting options are very limited. If you want to create plots for your publication or presentation, please export the data and use some other plotting software. \n",
    "\n",
    "However we think the functions provided here are well suited for rapid inspection and interaction with the data cube and results from data cube operations. That leads to a fast code and debug cycle for method implementations.   \n",
    "\n",
    "First of all we load the `CABLAB` as well as the `CABLABPlots` packages and set `plotlyjs` as the backend for the line and scatter plots. "
   ]
  },
  {
   "cell_type": "code",
   "execution_count": null,
   "metadata": {},
   "outputs": [],
   "source": [
    "using CABLAB\n",
    "using CABLABPlots\n",
    "plotlyjs()"
   ]
  },
  {
   "cell_type": "markdown",
   "metadata": {},
   "source": [
    "We open the data cube and load some variables for the regiosn South America"
   ]
  },
  {
   "cell_type": "code",
   "execution_count": null,
   "metadata": {},
   "outputs": [],
   "source": [
    "c = Cube(\"/home/jovyan/work/datacube/cablab-datacube-1.0.0/low-res/\")\n",
    "\n",
    "d = getCubeData(c, region = \"South America\", variable = [\"gross_primary_productivity\",\"net_ecosystem_exchange\",\"terrestrial_ecosystem_respiration\"])"
   ]
  },
  {
   "cell_type": "markdown",
   "metadata": {},
   "source": [
    "The first thing you probably want to see is a map plot of the data. Here we go, the function is called `plotMAP`."
   ]
  },
  {
   "cell_type": "code",
   "execution_count": null,
   "metadata": {},
   "outputs": [],
   "source": [
    "plotMAP(d)"
   ]
  },
  {
   "cell_type": "markdown",
   "metadata": {},
   "source": [
    "In the function call above we did not specify which time step and which variable to plot. The `plotMAP` function will then try to create widgets for each missing cube axis that lets you select the missing information interactively. If we instead want a static plot, we can specify the missing axis values, abbreviations are ok, too. (*var* instead of variable, *net* instead of *net_ecosystem_exchange*)"
   ]
  },
  {
   "cell_type": "code",
   "execution_count": null,
   "metadata": {},
   "outputs": [],
   "source": [
    "plotMAP(d,var = \"net\", time = 10)"
   ]
  },
  {
   "cell_type": "markdown",
   "metadata": {},
   "source": [
    "The next plot type is a RGB map. The function is `plotMAPRGB`, here we select the time step 100. By default, the function will use the different variables as channels, however, this is completely customizable for different cubes. For all the plotting functions you can check the documentation to find out about options (type `?plotMAPRGB` in a notebook cell)"
   ]
  },
  {
   "cell_type": "code",
   "execution_count": null,
   "metadata": {
    "collapsed": true
   },
   "outputs": [],
   "source": [
    "using ColorTypes\n",
    "plotMAPRGB(d,cType=Lab,time=100)"
   ]
  },
  {
   "cell_type": "markdown",
   "metadata": {},
   "source": [
    "You can not only plot maps, but you can do plots along other axes, too. The functions `plotTS` lets you do time series plots. You can select a grouping variable to plot multiple time series of different variables in ine plot:"
   ]
  },
  {
   "cell_type": "code",
   "execution_count": null,
   "metadata": {
    "collapsed": true
   },
   "outputs": [],
   "source": [
    "plotTS(d)"
   ]
  },
  {
   "cell_type": "markdown",
   "metadata": {},
   "source": [
    "Actually, the `plotTS` function is only a special case of the more general `plotXY` which lets you decide which cube axis to put onto the x axis. If we choose a categorical axis on the x axis, a bar plot will be drawn instead of a line plot.  "
   ]
  },
  {
   "cell_type": "code",
   "execution_count": null,
   "metadata": {
    "collapsed": true
   },
   "outputs": [],
   "source": [
    "plotXY(d,xaxis=\"variable\")"
   ]
  },
  {
   "cell_type": "code",
   "execution_count": null,
   "metadata": {
    "collapsed": true
   },
   "outputs": [],
   "source": [
    "plotXY(d,xaxis=LonAxis)"
   ]
  },
  {
   "cell_type": "markdown",
   "metadata": {},
   "source": [
    "The last plot type is a scatter plot `plotScatter`. Here one can plot two items chosen form one axis (default: `vsaxis=VariableAxis`) against each other along a third axis (specified by `alongaxis`). So one can check for correlations between two different variables inside a data cube. "
   ]
  },
  {
   "cell_type": "code",
   "execution_count": null,
   "metadata": {
    "collapsed": true
   },
   "outputs": [],
   "source": [
    "plotScatter(d,alongaxis=TimeAxis)"
   ]
  },
  {
   "cell_type": "code",
   "execution_count": null,
   "metadata": {
    "collapsed": true
   },
   "outputs": [],
   "source": []
  }
 ],
 "metadata": {
  "kernelspec": {
   "display_name": "Julia 0.5.0",
   "language": "julia",
   "name": "julia-0.5"
  },
  "language_info": {
   "file_extension": ".jl",
   "mimetype": "application/julia",
   "name": "julia",
   "version": "0.5.0"
  },
  "widgets": {
   "state": {
    "2a4321b1-f068-4fcf-b937-81cab923edf2": {
     "views": [
      {
       "cell_index": 3
      }
     ]
    },
    "4663b0e6-d2ce-438d-ae3e-550d6abd82b9": {
     "views": [
      {
       "cell_index": 8
      }
     ]
    },
    "49999fcc-5932-44f7-87b5-c8ca62eac3b7": {
     "views": [
      {
       "cell_index": 9
      }
     ]
    },
    "6cee9d03-c59a-4fe4-91b7-c4e745d76edb": {
     "views": [
      {
       "cell_index": 7
      }
     ]
    },
    "7970c39b-af3c-461d-9120-09c6407bd6e8": {
     "views": [
      {
       "cell_index": 9
      }
     ]
    },
    "9c5aa90c-8a49-4120-849e-23941963e9c7": {
     "views": [
      {
       "cell_index": 9
      }
     ]
    },
    "a05a87c2-b5ec-4d39-ab36-631080244a97": {
     "views": [
      {
       "cell_index": 9
      }
     ]
    },
    "a0de83c8-9086-40e5-86d6-7c99d5f1490d": {
     "views": [
      {
       "cell_index": 8
      }
     ]
    },
    "a1fc2889-ccc6-4bda-ad26-e82f2f28fe5a": {
     "views": [
      {
       "cell_index": 7
      }
     ]
    },
    "af0482a1-8d85-4789-b650-44f8da798246": {
     "views": [
      {
       "cell_index": 6
      }
     ]
    },
    "b056f724-5e32-4ec8-b0bf-d0352a76a063": {
     "views": [
      {
       "cell_index": 8
      }
     ]
    },
    "be6e10d7-8ea4-4378-8f84-a5bcc19e45b4": {
     "views": [
      {
       "cell_index": 7
      }
     ]
    },
    "c18b8842-780d-4a8d-a670-954604d4158e": {
     "views": [
      {
       "cell_index": 8
      }
     ]
    },
    "d1d032d2-621b-452b-987a-9e18face20b4": {
     "views": [
      {
       "cell_index": 9
      }
     ]
    },
    "e00c4b14-9ae5-4748-93b8-780e5a1925b9": {
     "views": [
      {
       "cell_index": 7
      }
     ]
    },
    "e9da1db7-1f1e-4b46-a128-9035fd9a3012": {
     "views": [
      {
       "cell_index": 6
      }
     ]
    },
    "f2be82cc-38e6-47a2-b80e-86d572e0abfc": {
     "views": [
      {
       "cell_index": 6
      }
     ]
    },
    "f80b4e64-2adb-4e81-b368-32b73f225dc9": {
     "views": [
      {
       "cell_index": 6
      }
     ]
    },
    "fa62c481-3306-4e32-9aae-a5e945268352": {
     "views": [
      {
       "cell_index": 3
      }
     ]
    }
   },
   "version": "1.2.0"
  }
 },
 "nbformat": 4,
 "nbformat_minor": 2
}
