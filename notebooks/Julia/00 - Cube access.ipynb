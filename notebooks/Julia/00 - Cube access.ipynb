{
 "cells": [
  {
   "cell_type": "markdown",
   "metadata": {},
   "source": [
    "This Notebook will give an overview about how to access data from the data cube and which types of cubes you can work with in CABLAB. First of all we have to load the *CABLAB.jl* package:"
   ]
  },
  {
   "cell_type": "code",
   "execution_count": null,
   "metadata": {},
   "outputs": [],
   "source": [
    "using CABLAB"
   ]
  },
  {
   "cell_type": "markdown",
   "metadata": {},
   "source": [
    "The next step is to access the data cube. Here we open the low-resolution cube, get a handle to it and store the handle in the variable `c`. Basic information about the cube will be printed to the screen, like the temporal and spatial resolution and the conatinaed variables."
   ]
  },
  {
   "cell_type": "code",
   "execution_count": null,
   "metadata": {},
   "outputs": [],
   "source": [
    "c = Cube(\"/home/jovyan/work/datacube/cablab-datacube-1.0.0/low-res/\")"
   ]
  },
  {
   "cell_type": "markdown",
   "metadata": {},
   "source": [
    "To access a set of variables from the cube, we use the `getCubeData` function. The keyword argument `variable` lets one select a set of variables. This returns a 4-dimensional data cube where, in addition to longitude, latitude and time, the variables are treated as an additional dimension. \n",
    "\n",
    "Note that this operation will not read the data into memory yet, it will return a handle that can be used for further operations. "
   ]
  },
  {
   "cell_type": "code",
   "execution_count": null,
   "metadata": {},
   "outputs": [],
   "source": [
    "d = getCubeData(c, variable = [\"net_ecosystem_exchange\",\"terrestrial_ecosystem_respiration\",\"gross_primary_productivity\"])"
   ]
  },
  {
   "cell_type": "markdown",
   "metadata": {},
   "source": [
    "To select all the atmospheric variable from the cube, one can specify the following. The same would work for Biosphere. "
   ]
  },
  {
   "cell_type": "code",
   "execution_count": null,
   "metadata": {},
   "outputs": [],
   "source": [
    "d = getCubeData(c, variable = \"Atmosphere\")"
   ]
  },
  {
   "cell_type": "markdown",
   "metadata": {},
   "source": [
    "One can extracta spatial or temporal subset from the cube by sepcifiying the `longitude`, `latitude` or `time` keyword variables. Here we select a lon-lat box in a single year only: "
   ]
  },
  {
   "cell_type": "code",
   "execution_count": null,
   "metadata": {},
   "outputs": [],
   "source": [
    "d = getCubeData(c, variable = \"gross_primary_productivity\", \n",
    "                   longitude = (-10,30), \n",
    "                   latitude = (30, 65), \n",
    "                   time = (Date(2001,1,1), Date(2001,12,31))\n",
    ")"
   ]
  },
  {
   "cell_type": "markdown",
   "metadata": {},
   "source": [
    "There is a set of coordinates for known geographical regions stored in the package, for example, to subset the continent Europe, you can specify:"
   ]
  },
  {
   "cell_type": "code",
   "execution_count": null,
   "metadata": {},
   "outputs": [],
   "source": [
    "d = getCubeData(c, variable = \"gross_primary_productivity\", region = \"Europe\")"
   ]
  },
  {
   "cell_type": "markdown",
   "metadata": {},
   "source": [
    "Similar for countries:"
   ]
  },
  {
   "cell_type": "code",
   "execution_count": null,
   "metadata": {},
   "outputs": [],
   "source": [
    "d = getCubeData(c, variable = \"gross_primary_productivity\", region = \"Colombia\")"
   ]
  },
  {
   "cell_type": "markdown",
   "metadata": {},
   "source": [
    "Or for SREX regions:"
   ]
  },
  {
   "cell_type": "code",
   "execution_count": null,
   "metadata": {},
   "outputs": [],
   "source": [
    "d = getCubeData(c, variable = \"gross_primary_productivity\", region = \"AMZ\")"
   ]
  }
 ],
 "metadata": {
  "kernelspec": {
   "display_name": "Julia 0.5.0",
   "language": "julia",
   "name": "julia-0.5"
  },
  "language_info": {
   "file_extension": ".jl",
   "mimetype": "application/julia",
   "name": "julia",
   "version": "0.5.0"
  },
  "widgets": {
   "state": {
    "4994d000-4afe-4471-b6bd-8a2178107ff1": {
     "views": [
      {
       "cell_index": 11
      }
     ]
    }
   },
   "version": "1.2.0"
  }
 },
 "nbformat": 4,
 "nbformat_minor": 2
}
