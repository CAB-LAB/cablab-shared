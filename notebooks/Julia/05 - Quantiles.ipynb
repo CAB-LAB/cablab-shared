{
 "cells": [
  {
   "cell_type": "code",
   "execution_count": null,
   "metadata": {
    "collapsed": true
   },
   "outputs": [],
   "source": [
    "using ESDL\n",
    "using ESDLPlots\n",
    "using ProgressMeter\n",
    "gr()"
   ]
  },
  {
   "cell_type": "markdown",
   "metadata": {},
   "source": [
    "In this Notebook we want to visualize the regions where cube variable take on their highest or lowest value. To do this we calculate the 99% and the 1% quantile for each variable from a subset of the data and afterwards count how often the quantile was exceeded for each variable in each grid cell."
   ]
  },
  {
   "cell_type": "code",
   "execution_count": null,
   "metadata": {
    "collapsed": true
   },
   "outputs": [],
   "source": [
    "c             = Cube()\n",
    "vars          = [\"air_temperature_2m\",\"soil_moisture\",\"gross_primary_productivity\"];\n",
    "cdata         = getCubeData(c,region=\"South America\",variable=vars);"
   ]
  },
  {
   "cell_type": "code",
   "execution_count": null,
   "metadata": {
    "collapsed": true
   },
   "outputs": [],
   "source": [
    "import OnlineStats: Hist\n",
    "d = mapCube(Hist,cdata,100,by=(VariableAxis,))"
   ]
  },
  {
   "cell_type": "code",
   "execution_count": null,
   "metadata": {
    "collapsed": true
   },
   "outputs": [],
   "source": [
    "plotHist(d)"
   ]
  },
  {
   "cell_type": "code",
   "execution_count": null,
   "metadata": {
    "collapsed": true
   },
   "outputs": [],
   "source": [
    "qu = quantile(d,[0.01,0.99])"
   ]
  },
  {
   "cell_type": "code",
   "execution_count": null,
   "metadata": {
    "collapsed": true
   },
   "outputs": [],
   "source": [
    "plotXY(qu)"
   ]
  },
  {
   "cell_type": "markdown",
   "metadata": {},
   "source": [
    "Get the quantiles for the subsample"
   ]
  },
  {
   "cell_type": "markdown",
   "metadata": {},
   "source": [
    "Define a function that counts quantile crossings for each grid cell"
   ]
  },
  {
   "cell_type": "code",
   "execution_count": null,
   "metadata": {
    "collapsed": true
   },
   "outputs": [],
   "source": [
    "\"\"\"\n",
    "How often the upper or lower quantiles are crossed in each time series\n",
    "\"\"\"\n",
    "function countExtremes(xout::AbstractArray,xin::AbstractVector,qvec::AbstractVector)\n",
    "    nlow,nhigh=0,0\n",
    "    qlow,qhigh=qvec\n",
    "    for v in xin\n",
    "        if !isnan(v)\n",
    "            v<=qlow && (nlow+=1)\n",
    "            v>=qhigh && (nhigh+=1)\n",
    "        end\n",
    "    end\n",
    "    xout[1]=nlow\n",
    "    xout[2]=nhigh\n",
    "end"
   ]
  },
  {
   "cell_type": "code",
   "execution_count": null,
   "metadata": {
    "collapsed": true
   },
   "outputs": [],
   "source": [
    "import ESDL.NaNMissing\n",
    "indims = InDims(\"Time\",miss=NaNMissing()),InDims(\"Quantile\",miss=NaNMissing())\n",
    "outdims = OutDims(CategoricalAxis(\"Direction\",[\"High\",\"Low\"]),outtype=Int,miss=NaNMissing())\n",
    "o=mapCube(countExtremes,(cdata,qu),\n",
    "  indims = indims,\n",
    "  outdims = outdims,no_ocean=1)"
   ]
  },
  {
   "cell_type": "markdown",
   "metadata": {},
   "source": [
    "Now we plot the low extremes"
   ]
  },
  {
   "cell_type": "code",
   "execution_count": null,
   "metadata": {
    "collapsed": true,
    "scrolled": false
   },
   "outputs": [],
   "source": [
    "for i=1:3\n",
    "display(o.axes[4].values[i])\n",
    "display(plotMAP(o,dmax=10,dir=1,var=i))\n",
    "end"
   ]
  },
  {
   "cell_type": "markdown",
   "metadata": {
    "collapsed": true
   },
   "source": [
    "And the high extremes"
   ]
  },
  {
   "cell_type": "code",
   "execution_count": null,
   "metadata": {
    "collapsed": true,
    "scrolled": false
   },
   "outputs": [],
   "source": [
    "for i=1:3\n",
    "display(o.axes[4].values[i])\n",
    "display(plotMAP(o,dmax=10,dir=2,var=i))\n",
    "end"
   ]
  },
  {
   "cell_type": "code",
   "execution_count": null,
   "metadata": {
    "collapsed": true
   },
   "outputs": [],
   "source": []
  },
  {
   "cell_type": "code",
   "execution_count": null,
   "metadata": {
    "collapsed": true
   },
   "outputs": [],
   "source": []
  }
 ],
 "metadata": {
  "anaconda-cloud": {},
  "kernelspec": {
   "display_name": "Julia 0.6 atacama",
   "language": "julia",
   "name": "julia-0.6-atacama-kernel"
  },
  "language_info": {
   "file_extension": ".jl",
   "mimetype": "application/julia",
   "name": "julia",
   "version": "0.6.0"
  }
 },
 "nbformat": 4,
 "nbformat_minor": 1
}
