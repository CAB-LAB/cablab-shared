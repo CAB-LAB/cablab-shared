{
 "cells": [
  {
   "cell_type": "code",
   "execution_count": null,
   "metadata": {
    "collapsed": false,
    "deletable": true,
    "editable": true
   },
   "outputs": [],
   "source": [
    "using CABLAB\n",
    "using CABLABPlots"
   ]
  },
  {
   "cell_type": "markdown",
   "metadata": {
    "deletable": true,
    "editable": true
   },
   "source": [
    "In this Notebook we want to visualize the regions where cube variable take on their highest or lowest value. To do this we calculate the 99% and the 1% quantile for each variable from a subset of the data and afterwards count how often the quantile was exceeded for each variable in each grid cell."
   ]
  },
  {
   "cell_type": "code",
   "execution_count": null,
   "metadata": {
    "collapsed": false,
    "deletable": true,
    "editable": true
   },
   "outputs": [],
   "source": [
    "c             = Cube(\"/home/jovyan/work/datacube/cablab-datacube-1.0.0/low-res/\")\n",
    "vars          = [\"air_temperature_2m\",\"soil_moisture\",\"c_emissions\"];\n",
    "cdata         = getCubeData(c,latitude=(30,65), longitude=(-10,40),variable=vars); \n",
    "sampledata    = sampleLandPoints(cdata,2000);"
   ]
  },
  {
   "cell_type": "markdown",
   "metadata": {
    "deletable": true,
    "editable": true
   },
   "source": [
    "Get the quantiles for the subsample"
   ]
  },
  {
   "cell_type": "code",
   "execution_count": null,
   "metadata": {
    "collapsed": false,
    "deletable": true,
    "editable": true
   },
   "outputs": [],
   "source": [
    "quants=mapCube(timespacequantiles,sampledata,[0.01,0.99])"
   ]
  },
  {
   "cell_type": "markdown",
   "metadata": {
    "deletable": true,
    "editable": true
   },
   "source": [
    "Define a function that counts quantile crossings for each grid cell"
   ]
  },
  {
   "cell_type": "code",
   "execution_count": null,
   "metadata": {
    "collapsed": false,
    "deletable": true,
    "editable": true
   },
   "outputs": [],
   "source": [
    "\"\"\"\n",
    "How often the upper or lower quantiles are crossed in each time series\n",
    "\"\"\"\n",
    "function countExtremes(xout::AbstractArray,xin::AbstractVector,qvec::AbstractVector)\n",
    "    nlow,nhigh=0,0\n",
    "    qlow,qhigh=qvec\n",
    "    for v in xin\n",
    "        if !isnan(v)\n",
    "            v<=qlow && (nlow+=1)\n",
    "            v>=qhigh && (nhigh+=1)\n",
    "        end\n",
    "    end\n",
    "    xout[1]=nlow\n",
    "    xout[2]=nhigh\n",
    "end\n",
    "\n",
    "registerDATFunction(countExtremes,((TimeAxis,),(QuantileAxis,)),(QuantileAxis,),inmissing=(:nan,:nan),outmissing=:nan,no_ocean=1);"
   ]
  },
  {
   "cell_type": "code",
   "execution_count": null,
   "metadata": {
    "collapsed": false,
    "deletable": true,
    "editable": true
   },
   "outputs": [],
   "source": [
    "@time o=mapCube(countExtremes,(cdata,quants),outtype=(Int,), no_ocean=true)"
   ]
  },
  {
   "cell_type": "markdown",
   "metadata": {
    "deletable": true,
    "editable": true
   },
   "source": [
    "Now we plot the low extremes"
   ]
  },
  {
   "cell_type": "code",
   "execution_count": null,
   "metadata": {
    "collapsed": false,
    "deletable": true,
    "editable": true,
    "scrolled": false
   },
   "outputs": [],
   "source": [
    "for i=1:3\n",
    "display(o.axes[4].values[i])\n",
    "display(plotMAP(o,dmax=10,quant=1,var=i))\n",
    "end"
   ]
  },
  {
   "cell_type": "markdown",
   "metadata": {
    "collapsed": true,
    "deletable": true,
    "editable": true
   },
   "source": [
    "And the high extremes"
   ]
  },
  {
   "cell_type": "code",
   "execution_count": null,
   "metadata": {
    "collapsed": false,
    "deletable": true,
    "editable": true,
    "scrolled": false
   },
   "outputs": [],
   "source": [
    "for i=1:3\n",
    "display(o.axes[4].values[i])\n",
    "display(plotMAP(o,dmax=10,quant=2,var=i))\n",
    "end"
   ]
  },
  {
   "cell_type": "code",
   "execution_count": null,
   "metadata": {
    "collapsed": true,
    "deletable": true,
    "editable": true
   },
   "outputs": [],
   "source": []
  }
 ],
 "metadata": {
  "anaconda-cloud": {},
  "kernelspec": {
   "display_name": "Julia 0.5.0",
   "language": "julia",
   "name": "julia-0.5"
  },
  "language_info": {
   "file_extension": ".jl",
   "mimetype": "application/julia",
   "name": "julia",
   "version": "0.5.0"
  }
 },
 "nbformat": 4,
 "nbformat_minor": 0
}
