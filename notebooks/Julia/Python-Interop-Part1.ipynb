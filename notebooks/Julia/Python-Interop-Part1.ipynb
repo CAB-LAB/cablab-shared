{
 "cells": [
  {
   "cell_type": "markdown",
   "metadata": {},
   "source": [
    "### Interoperability with Python xarray\n",
    "\n",
    "This pair of notebooks (together with Python-interop Part2) is meant to demonstrate how to mix workflows from Julia and Python. In this example we will open the datacube in Julia, remove the seasonal cycle of a subset and save the data. Afterwards you can open the Python notebook and continue the analysis and plot the results. "
   ]
  },
  {
   "cell_type": "code",
   "execution_count": null,
   "metadata": {},
   "outputs": [],
   "source": [
    "using ESDL"
   ]
  },
  {
   "cell_type": "code",
   "execution_count": null,
   "metadata": {},
   "outputs": [],
   "source": [
    "c=Cube()\n",
    "c2 = c[var=[\"gross\",\"net_ecosystem\",\"terr\"],time=2001:2017, region=\"Poland\"]\n",
    "c_nomsc = removeMSC(c2)"
   ]
  },
  {
   "cell_type": "code",
   "execution_count": null,
   "metadata": {},
   "outputs": [],
   "source": [
    "saveCube(c_nomsc,\"cube_nomsc\");"
   ]
  },
  {
   "cell_type": "code",
   "execution_count": null,
   "metadata": {},
   "outputs": [],
   "source": []
  }
 ],
 "metadata": {
  "@webio": {
   "lastCommId": "72023d2b3f8a43ef8b33285ff805c90d",
   "lastKernelId": "9e732a5d-1f9e-4717-9d24-3d5a1ab5098c"
  },
  "kernelspec": {
   "display_name": "Julia 1.1.0",
   "language": "julia",
   "name": "julia-1.1"
  },
  "language_info": {
   "file_extension": ".jl",
   "mimetype": "application/julia",
   "name": "julia",
   "version": "1.1.0"
  }
 },
 "nbformat": 4,
 "nbformat_minor": 2
}
