{
 "cells": [
  {
   "cell_type": "code",
   "execution_count": null,
   "metadata": {},
   "outputs": [],
   "source": [
    "using ESDL\n",
    "using ESDLPlots\n",
    "gr()"
   ]
  },
  {
   "cell_type": "code",
   "execution_count": null,
   "metadata": {},
   "outputs": [],
   "source": [
    "ds=Cube()\n",
    "d=getCubeData(ds,variable=[\"Biosphere\"],region=\"Poland\")\n",
    "d2=d"
   ]
  },
  {
   "cell_type": "code",
   "execution_count": null,
   "metadata": {},
   "outputs": [],
   "source": [
    "include(\"loadLC.jl\")"
   ]
  },
  {
   "cell_type": "code",
   "execution_count": null,
   "metadata": {},
   "outputs": [],
   "source": [
    "@loadOrGenerate v1=>\"variance_pca\" r1=>\"rotation_pca\" proj1=>\"Projected\" begin\n",
    "  p1=cubePCA(d,noutdims=3)\n",
    "  v1=explained_variance(p1)\n",
    "  r1=rotation_matrix(p1)\n",
    "  proj1=transformPCA(p1,d)  \n",
    "end"
   ]
  },
  {
   "cell_type": "code",
   "execution_count": null,
   "metadata": {},
   "outputs": [],
   "source": [
    "plotXY(v1,xaxis=\"pc\")"
   ]
  },
  {
   "cell_type": "code",
   "execution_count": null,
   "metadata": {},
   "outputs": [],
   "source": [
    "plotlyjs()\n",
    "plotXY(r1,xaxis=\"pc\",group=\"variable\")"
   ]
  },
  {
   "cell_type": "code",
   "execution_count": null,
   "metadata": {},
   "outputs": [],
   "source": [
    "proj1"
   ]
  },
  {
   "cell_type": "code",
   "execution_count": null,
   "metadata": {},
   "outputs": [],
   "source": [
    "using OnlineStats\n",
    "index = reduceCube(mean,proj1,(LonAxis,LatAxis),skipmissing=true)"
   ]
  },
  {
   "cell_type": "code",
   "execution_count": null,
   "metadata": {},
   "outputs": [],
   "source": [
    "value=Reactive.value\n",
    "plotTS(index,group=\"PC\")"
   ]
  },
  {
   "cell_type": "code",
   "execution_count": null,
   "metadata": {},
   "outputs": [],
   "source": [
    "@loadOrGenerate vlc=>\"variance_by_landCover\" rlc=>\"rotation_by_landcover\" begin\n",
    "  plandclass=cubePCA(d,noutdims=3,by=[lc])\n",
    "  vlc=explained_variance(plandclass)\n",
    "  rlc=rotation_matrix(plandclass)\n",
    "end"
   ]
  },
  {
   "cell_type": "code",
   "execution_count": null,
   "metadata": {},
   "outputs": [],
   "source": [
    "plotXY(vlc,xaxis=\"pc\",group=\"landcover\")"
   ]
  },
  {
   "cell_type": "code",
   "execution_count": null,
   "metadata": {},
   "outputs": [],
   "source": [
    "plotXY(rlc,xaxis=\"pc\",group=\"variable\")"
   ]
  },
  {
   "cell_type": "markdown",
   "metadata": {},
   "source": [
    "Masks don't have to be spatial"
   ]
  },
  {
   "cell_type": "code",
   "execution_count": null,
   "metadata": {},
   "outputs": [],
   "source": [
    "tax = d.timeAxis\n",
    "function getSeason(x::Dates.TimeType)\n",
    "  m = Dates.month(x)\n",
    "  in(m,(12,1,2)) ? 1 : in(m,(3,4,5)) ? 2 : in(m,(6,7,8)) ? 3 : 4\n",
    "end\n",
    "seasonmask=CubeMem(CubeAxis[tax],getSeason.(tax.values),zeros(UInt8,length(tax)))\n",
    "seasonmask.properties[\"labels\"]=Dict(1=>\"Spring\",2=>\"Summer\",3=>\"Autumn\",4=>\"Winter\")\n",
    "seasonmask.properties[\"name\"]=\"Season\"\n",
    "plotTS(seasonmask)"
   ]
  },
  {
   "cell_type": "code",
   "execution_count": null,
   "metadata": {
    "scrolled": true
   },
   "outputs": [],
   "source": [
    "@loadOrGenerate vseason=>\"variance_by_season\" rseason=>\"rotation_by_season\" projseason=>\"Projected_by_season\" begin\n",
    "  pseason=cubePCA(d,noutdims=3,by=[seasonmask])\n",
    "  vseason=explained_variance(pseason)\n",
    "  rseason=rotation_matrix(pseason)\n",
    "  projseason=transformPCA(pseason,d)\n",
    "end"
   ]
  },
  {
   "cell_type": "code",
   "execution_count": null,
   "metadata": {},
   "outputs": [],
   "source": [
    "plotXY(vseason,xaxis=\"PC\",group=\"season\")"
   ]
  },
  {
   "cell_type": "code",
   "execution_count": null,
   "metadata": {},
   "outputs": [],
   "source": [
    "plotXY(rseason,xaxis=\"PC\",group=\"variable\")"
   ]
  },
  {
   "cell_type": "code",
   "execution_count": null,
   "metadata": {},
   "outputs": [],
   "source": [
    "@loadOrGenerate vtime=>\"timePCA_variance\" rtime=>\"timePCA_rotation\" projtime=>\"timePCA_Projected\" begin\n",
    "  ptime = cubePCA(d,noutdims=5,by=[VariableAxis],MDAxis=TimeAxis)\n",
    "  vtime  = explained_variance(ptime)\n",
    "  rtime  = rotation_matrix(ptime)\n",
    "  projtime = transformPCA(ptime,d)\n",
    "end"
   ]
  },
  {
   "cell_type": "code",
   "execution_count": null,
   "metadata": {},
   "outputs": [],
   "source": [
    "plotXY(vtime,xaxis=\"pc\",group=\"variable\")"
   ]
  },
  {
   "cell_type": "code",
   "execution_count": null,
   "metadata": {},
   "outputs": [],
   "source": [
    "plotTS(rtime,pc=1,group=\"var\")"
   ]
  },
  {
   "cell_type": "code",
   "execution_count": null,
   "metadata": {
    "collapsed": true
   },
   "outputs": [],
   "source": []
  }
 ],
 "metadata": {
  "anaconda-cloud": {},
  "kernelspec": {
   "display_name": "Julia 0.6 atacama",
   "language": "julia",
   "name": "julia-0.6-atacama-kernel"
  },
  "language_info": {
   "file_extension": ".jl",
   "mimetype": "application/julia",
   "name": "julia",
   "version": "0.6.0"
  }
 },
 "nbformat": 4,
 "nbformat_minor": 2
}
