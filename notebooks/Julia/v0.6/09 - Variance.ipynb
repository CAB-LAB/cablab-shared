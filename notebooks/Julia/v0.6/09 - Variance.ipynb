{
 "cells": [
  {
   "cell_type": "markdown",
   "metadata": {},
   "source": [
    "# Calculating temporal variance with and without seasonal cycle"
   ]
  },
  {
   "cell_type": "code",
   "execution_count": null,
   "metadata": {},
   "outputs": [],
   "source": [
    "using ESDL\n",
    "using ESDLPlots"
   ]
  },
  {
   "cell_type": "markdown",
   "metadata": {},
   "source": [
    "   A Cube is defined via its path and a view of the data is created."
   ]
  },
  {
   "cell_type": "code",
   "execution_count": null,
   "metadata": {},
   "outputs": [],
   "source": [
    "c     = Cube(resolution=\"high\")\n",
    "cdata = getCubeData(c, variable=\"gross_primary_productivity\", latitude=(30,65), longitude=(-15,40))"
   ]
  },
  {
   "cell_type": "markdown",
   "metadata": {},
   "source": [
    "Here we demonstrate how to add a user-defined function to use the DAT's capabilities. First we define the function that has the signature *xin* (input data), *xout* (output data), *maskin* (input mask), *maskout* (output mask). In this case it simply cacluates the variance of a time series. Then we call registerDATFunction, makes the function simply callable thourgh mapCube. "
   ]
  },
  {
   "cell_type": "markdown",
   "metadata": {},
   "source": [
    "Here we call the function with our 3D data cube as its argument."
   ]
  },
  {
   "cell_type": "code",
   "execution_count": null,
   "metadata": {},
   "outputs": [],
   "source": [
    "v1             = mapslices(i->var(filter(!isnan,i)),cdata,\"Time\")\n",
    "cube_anomalies = removeMSC(cdata);\n",
    "v2             = mapslices(i->var(filter(!isnan,i)),cube_anomalies,\"Time\")"
   ]
  },
  {
   "cell_type": "markdown",
   "metadata": {},
   "source": [
    "And show the maps of variances:"
   ]
  },
  {
   "cell_type": "code",
   "execution_count": null,
   "metadata": {
    "scrolled": false
   },
   "outputs": [],
   "source": [
    "display(plotMAP(v1,dmin=0,dmax=10))\n",
    "display(plotMAP(v2,dmin=0,dmax=1))"
   ]
  },
  {
   "cell_type": "code",
   "execution_count": null,
   "metadata": {},
   "outputs": [],
   "source": [
    "mv1=reduceCube(mean, v1, (LonAxis,LatAxis), skipmissing=true);\n",
    "mv2=reduceCube(mean, v2, (LonAxis,LatAxis), skipmissing=true);\n",
    "println(\"Mean variance with seasonal cycle: \", mv1.data[1])\n",
    "println(\"Mean variance without seasonal cycle: \", mv2.data[1])"
   ]
  },
  {
   "cell_type": "code",
   "execution_count": null,
   "metadata": {
    "collapsed": true
   },
   "outputs": [],
   "source": []
  }
 ],
 "metadata": {
  "anaconda-cloud": {},
  "kernelspec": {
   "display_name": "Julia 0.6 atacama",
   "language": "julia",
   "name": "julia-0.6-atacama-kernel"
  },
  "language_info": {
   "file_extension": ".jl",
   "mimetype": "application/julia",
   "name": "julia",
   "version": "0.6.0"
  }
 },
 "nbformat": 4,
 "nbformat_minor": 1
}
