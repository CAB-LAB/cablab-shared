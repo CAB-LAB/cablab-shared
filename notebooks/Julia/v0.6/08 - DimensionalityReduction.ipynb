{
 "cells": [
  {
   "cell_type": "markdown",
   "metadata": {
    "scrolled": false
   },
   "source": [
    "# Linear dimensionality reduction with \n",
    "# Prinicipal Component Analysis on the ESDC\n",
    "## by Max Planck Institute for Biogeochemistry\n",
    "## M. Mahecha & F. Gans "
   ]
  },
  {
   "cell_type": "code",
   "execution_count": null,
   "metadata": {},
   "outputs": [],
   "source": [
    "using ESDL\n",
    "using ESDLPlots\n",
    "plotlyjs()"
   ]
  },
  {
   "cell_type": "markdown",
   "metadata": {},
   "source": [
    "In this study we investigate the redundancy the different variables in each pixel. Therefore we calculate a linear dimensionality reduction (PCA) and check how many dimensions are needed to explain 90% of the variance of a cube that contained originally 6 variables.  First we check out the variables from the cube and add some processors, because we want to do a global study"
   ]
  },
  {
   "cell_type": "markdown",
   "metadata": {},
   "source": [
    "## Access ESDC"
   ]
  },
  {
   "cell_type": "code",
   "execution_count": null,
   "metadata": {},
   "outputs": [],
   "source": [
    "c = Cube()"
   ]
  },
  {
   "cell_type": "markdown",
   "metadata": {},
   "source": [
    "## Define variables for anaylsis"
   ]
  },
  {
   "cell_type": "code",
   "execution_count": null,
   "metadata": {},
   "outputs": [],
   "source": [
    "vars = [\"gross_primary_productivity\",\"latent_energy\",\"root_moisture\"\n",
    "    ,\"terrestrial_ecosystem_respiration\",\"burnt_area\",\"black_sky_albedo\",\"net_ecosystem_exchange\"];\n",
    "cdata = getCubeData(c,variable=vars,region=\"Africa\");"
   ]
  },
  {
   "cell_type": "markdown",
   "metadata": {},
   "source": [
    "## Gap-filling, needed to perform PCA"
   ]
  },
  {
   "cell_type": "code",
   "execution_count": null,
   "metadata": {},
   "outputs": [],
   "source": [
    "@loadOrGenerate cubeanom=>\"DimRed_Anomalies\" cube_filled=>\"DimRed_Filled\" begin\n",
    "@time cube_filled     = gapFillMSC(cdata);\n",
    "#And we calculate the anomalies\n",
    "@time cubeanom        = removeMSC(cube_filled)\n",
    "end"
   ]
  },
  {
   "cell_type": "markdown",
   "metadata": {},
   "source": [
    "## Perform PCA"
   ]
  },
  {
   "cell_type": "code",
   "execution_count": null,
   "metadata": {},
   "outputs": [],
   "source": [
    "@everywhere using MultivariateStats\n",
    "@everywhere function sufficient_dimensions{T}(xout::AbstractArray{T}, xin::AbstractArray{T}, expl_var::Float64 = 0.95)\n",
    "    any(isnan,xin) && return xout[1]=NaN\n",
    "    npoint, nvar = size(xin)\n",
    "    means = mean(xin,1)\n",
    "    stds  = std(xin,1)\n",
    "    xin   = broadcast((y,m,s)->s>0.0 ? (y-m)/s : one(y),xin,means,stds)\n",
    "    pca = fit(PCA, xin', pratio = 0.999, method = :svd)\n",
    "    xout[1]  = findfirst(cumsum(principalvars(pca)) / tprincipalvar(pca) .> expl_var)\n",
    "end "
   ]
  },
  {
   "cell_type": "code",
   "execution_count": null,
   "metadata": {},
   "outputs": [],
   "source": [
    "#First we do the analysis on the original cube:\n",
    "@loadOrGenerate qualitypca=>\"DimRed_Quality_filled\" begin\n",
    "@time qualitypca=mapCube(sufficient_dimensions,cube_filled,0.90,\n",
    "    indims=InDims(\"Time\",\"Variable\",miss=ESDL.NaNMissing()),\n",
    "    outdims=OutDims(miss=ESDL.NaNMissing()));\n",
    "end"
   ]
  },
  {
   "cell_type": "markdown",
   "metadata": {},
   "source": [
    "# Result\n",
    "## Complexity of the multivariate time series including the seasonal cycle\n",
    "## How many variables are needed to explain 90% of the variance in the data?"
   ]
  },
  {
   "cell_type": "code",
   "execution_count": null,
   "metadata": {},
   "outputs": [],
   "source": [
    "plotMAP(qualitypca,dmin=2,dmax=6)"
   ]
  },
  {
   "cell_type": "markdown",
   "metadata": {},
   "source": [
    "And on the anomalies only:"
   ]
  },
  {
   "cell_type": "code",
   "execution_count": null,
   "metadata": {},
   "outputs": [],
   "source": [
    "@loadOrGenerate qualitypcaanom=>\"DimRed_quality_anom\" begin\n",
    "qualitypcaanom=mapCube(sufficient_dimensions,cubeanom,0.90,\n",
    "    indims=InDims(\"Time\",\"Variable\",miss=ESDL.NaNMissing()),\n",
    "    outdims=OutDims(miss=ESDL.NaNMissing()));\n",
    "end"
   ]
  },
  {
   "cell_type": "markdown",
   "metadata": {},
   "source": [
    "## Complexity of the multivariate time series without the seasonal cycle"
   ]
  },
  {
   "cell_type": "code",
   "execution_count": null,
   "metadata": {},
   "outputs": [],
   "source": [
    "plotMAP(qualitypcaanom,dmin=2,dmax=6)"
   ]
  },
  {
   "cell_type": "code",
   "execution_count": null,
   "metadata": {
    "collapsed": true
   },
   "outputs": [],
   "source": []
  },
  {
   "cell_type": "code",
   "execution_count": null,
   "metadata": {
    "collapsed": true
   },
   "outputs": [],
   "source": []
  }
 ],
 "metadata": {
  "anaconda-cloud": {},
  "kernelspec": {
   "display_name": "Julia 0.6 atacama",
   "language": "julia",
   "name": "julia-0.6-atacama-kernel"
  },
  "language_info": {
   "file_extension": ".jl",
   "mimetype": "application/julia",
   "name": "julia",
   "version": "0.6.0"
  }
 },
 "nbformat": 4,
 "nbformat_minor": 1
}
