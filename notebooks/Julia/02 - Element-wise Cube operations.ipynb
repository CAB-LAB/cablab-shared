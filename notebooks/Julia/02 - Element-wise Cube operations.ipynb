{
 "cells": [
  {
   "cell_type": "markdown",
   "metadata": {},
   "source": [
    "This Notebook gives a short introduction on how to do elementwise operations on CABLAB data cubes. First we load the CABLAB packages and get a reference to the air temperature cube"
   ]
  },
  {
   "cell_type": "code",
   "execution_count": null,
   "metadata": {},
   "outputs": [],
   "source": [
    "using CABLAB\n",
    "using CABLABPlots\n",
    "plotlyjs()"
   ]
  },
  {
   "cell_type": "code",
   "execution_count": null,
   "metadata": {},
   "outputs": [],
   "source": [
    "c = Cube(\"/home/jovyan/work/datacube/cablab-datacube-1.0.0/low-res/\")"
   ]
  },
  {
   "cell_type": "code",
   "execution_count": null,
   "metadata": {},
   "outputs": [],
   "source": [
    "tair = getCubeData(c,variable=\"air_temperature_2m\")"
   ]
  },
  {
   "cell_type": "code",
   "execution_count": null,
   "metadata": {},
   "outputs": [],
   "source": [
    "plotMAP(tair)"
   ]
  },
  {
   "cell_type": "markdown",
   "metadata": {},
   "source": [
    "The air temperature in the data cube is given in Kelvin. Assume you prefer to work with degree Celsius instead, we can apply the map function on our cube. Here, the first argument is `t->t-273.15` is an anonymous function that takes the variable t, subtracts 273.15 and returns the result. The second argument is the cube our function is applied to element-wise. "
   ]
  },
  {
   "cell_type": "code",
   "execution_count": null,
   "metadata": {},
   "outputs": [],
   "source": [
    "tair_c = map(t->t-273.15, tair) "
   ]
  },
  {
   "cell_type": "markdown",
   "metadata": {},
   "source": [
    "Note that no computation is done yet on the cube, the function is applied only if the data is plotted, exported, or a call to `mapCube` is done. "
   ]
  },
  {
   "cell_type": "code",
   "execution_count": null,
   "metadata": {},
   "outputs": [],
   "source": [
    "plotMAP(tair_c)"
   ]
  },
  {
   "cell_type": "markdown",
   "metadata": {},
   "source": [
    "As another example, let us try to estimate the (time-dependent) base respiration  $R_b$ under the bold assumption that $Q_{10} = 2$ is a global constant. If we assume the following model:\n",
    "\n",
    "$$ R = R_b Q_{10}^{{T-T_{ref}} \\over {10}}$$\n",
    "\n",
    "where R is the ecosystem respiration and T the air temperature. Then \n",
    "\n",
    "$$ R_b = {{R} \\over {Q_{10}^{{T-T_{ref}} \\over {10}}}} $$\n",
    "\n",
    "To do the calculation, we need two input data cubes, one for the temperature and one for the respiration. We define the function that should be applied:"
   ]
  },
  {
   "cell_type": "code",
   "execution_count": null,
   "metadata": {},
   "outputs": [],
   "source": [
    "function rb_estimator(resp,t)\n",
    "    Q10 = 2.0\n",
    "    t_eff = Q10^((t-15.0)/10.0)\n",
    "    return resp/t_eff\n",
    "end"
   ]
  },
  {
   "cell_type": "markdown",
   "metadata": {},
   "source": [
    "We load the respiration cube:"
   ]
  },
  {
   "cell_type": "code",
   "execution_count": null,
   "metadata": {},
   "outputs": [],
   "source": [
    "resp = getCubeData(c,variable=\"terrestrial_ecosystem_respiration\")"
   ]
  },
  {
   "cell_type": "markdown",
   "metadata": {},
   "source": [
    "And we apply the map function again. Since our function rb_estimator takes two input arguments, we need to pass to cubes to the map function:"
   ]
  },
  {
   "cell_type": "code",
   "execution_count": null,
   "metadata": {},
   "outputs": [],
   "source": [
    "rb = map(rb_estimator,resp,tair_c)"
   ]
  },
  {
   "cell_type": "markdown",
   "metadata": {},
   "source": [
    "Now we can plot the results as maps and time series:"
   ]
  },
  {
   "cell_type": "code",
   "execution_count": null,
   "metadata": {},
   "outputs": [],
   "source": [
    "plotMAP(rb,dmax = 5)"
   ]
  },
  {
   "cell_type": "code",
   "execution_count": null,
   "metadata": {},
   "outputs": [],
   "source": [
    "plotTS(rb,lon=30.0,lat=50.0)"
   ]
  },
  {
   "cell_type": "markdown",
   "metadata": {},
   "source": [
    "## Limitations\n",
    "\n",
    "The `map` function here works only for functions that do elementwise operations on one or more input cubes. It is restricted to cases where all input cubes (and the output) have exactly the same dimensions, it will throw an error otherwise. "
   ]
  },
  {
   "cell_type": "code",
   "execution_count": null,
   "metadata": {
    "collapsed": true
   },
   "outputs": [],
   "source": []
  }
 ],
 "metadata": {
  "kernelspec": {
   "display_name": "Julia 0.5.0",
   "language": "julia",
   "name": "julia-0.5"
  },
  "language_info": {
   "file_extension": ".jl",
   "mimetype": "application/julia",
   "name": "julia",
   "version": "0.5.0"
  },
  "widgets": {
   "state": {
    "2a4321b1-f068-4fcf-b937-81cab923edf2": {
     "views": [
      {
       "cell_index": 3
      }
     ]
    },
    "4663b0e6-d2ce-438d-ae3e-550d6abd82b9": {
     "views": [
      {
       "cell_index": 8
      }
     ]
    },
    "49999fcc-5932-44f7-87b5-c8ca62eac3b7": {
     "views": [
      {
       "cell_index": 9
      }
     ]
    },
    "6cee9d03-c59a-4fe4-91b7-c4e745d76edb": {
     "views": [
      {
       "cell_index": 7
      }
     ]
    },
    "7970c39b-af3c-461d-9120-09c6407bd6e8": {
     "views": [
      {
       "cell_index": 9
      }
     ]
    },
    "9c5aa90c-8a49-4120-849e-23941963e9c7": {
     "views": [
      {
       "cell_index": 9
      }
     ]
    },
    "a05a87c2-b5ec-4d39-ab36-631080244a97": {
     "views": [
      {
       "cell_index": 9
      }
     ]
    },
    "a0de83c8-9086-40e5-86d6-7c99d5f1490d": {
     "views": [
      {
       "cell_index": 8
      }
     ]
    },
    "a1fc2889-ccc6-4bda-ad26-e82f2f28fe5a": {
     "views": [
      {
       "cell_index": 7
      }
     ]
    },
    "af0482a1-8d85-4789-b650-44f8da798246": {
     "views": [
      {
       "cell_index": 6
      }
     ]
    },
    "b056f724-5e32-4ec8-b0bf-d0352a76a063": {
     "views": [
      {
       "cell_index": 8
      }
     ]
    },
    "be6e10d7-8ea4-4378-8f84-a5bcc19e45b4": {
     "views": [
      {
       "cell_index": 7
      }
     ]
    },
    "c18b8842-780d-4a8d-a670-954604d4158e": {
     "views": [
      {
       "cell_index": 8
      }
     ]
    },
    "d1d032d2-621b-452b-987a-9e18face20b4": {
     "views": [
      {
       "cell_index": 9
      }
     ]
    },
    "e00c4b14-9ae5-4748-93b8-780e5a1925b9": {
     "views": [
      {
       "cell_index": 7
      }
     ]
    },
    "e9da1db7-1f1e-4b46-a128-9035fd9a3012": {
     "views": [
      {
       "cell_index": 6
      }
     ]
    },
    "f2be82cc-38e6-47a2-b80e-86d572e0abfc": {
     "views": [
      {
       "cell_index": 6
      }
     ]
    },
    "f80b4e64-2adb-4e81-b368-32b73f225dc9": {
     "views": [
      {
       "cell_index": 6
      }
     ]
    },
    "fa62c481-3306-4e32-9aae-a5e945268352": {
     "views": [
      {
       "cell_index": 3
      }
     ]
    }
   },
   "version": "1.2.0"
  }
 },
 "nbformat": 4,
 "nbformat_minor": 2
}
