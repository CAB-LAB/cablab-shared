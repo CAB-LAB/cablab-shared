{
 "cells": [
  {
   "cell_type": "markdown",
   "metadata": {
    "deletable": true,
    "editable": true
   },
   "source": [
    "# Calculating temporal variance with and without seasonal cycle"
   ]
  },
  {
   "cell_type": "code",
   "execution_count": null,
   "metadata": {
    "collapsed": false,
    "deletable": true,
    "editable": true
   },
   "outputs": [],
   "source": [
    "using CABLAB\n",
    "using CABLABPlots"
   ]
  },
  {
   "cell_type": "markdown",
   "metadata": {
    "deletable": true,
    "editable": true
   },
   "source": [
    "   A Cube is defined via its path and a view of the data is created."
   ]
  },
  {
   "cell_type": "code",
   "execution_count": null,
   "metadata": {
    "collapsed": false,
    "deletable": true,
    "editable": true
   },
   "outputs": [],
   "source": [
    "c     = Cube(\"/home/jovyan/work/datacube/cablab-datacube-1.0.0/high-res/\")\n",
    "cdata = getCubeData(c, variable=\"gross_primary_productivity\", latitude=(30,65), longitude=(-15,40))"
   ]
  },
  {
   "cell_type": "markdown",
   "metadata": {
    "deletable": true,
    "editable": true
   },
   "source": [
    "Here we demonstrate how to add a user-defined function to use the DAT's capabilities. First we define the function that has the signature *xin* (input data), *xout* (output data), *maskin* (input mask), *maskout* (output mask). In this case it simply cacluates the variance of a time series. Then we call registerDATFunction, makes the function simply callable thourgh mapCube. "
   ]
  },
  {
   "cell_type": "code",
   "execution_count": null,
   "metadata": {
    "collapsed": false,
    "deletable": true,
    "editable": true
   },
   "outputs": [],
   "source": [
    "using CABLAB.Mask\n",
    "function varianceTime{T}(xout::AbstractArray{T,0},maskout::AbstractArray{UInt8,0},xin::AbstractVector{T},maskin::AbstractVector)\n",
    "    xin2=xin[maskin.==VALID]\n",
    "    if length(xin2)>1\n",
    "        xout[1]=var(xin2)\n",
    "        maskout[1]=VALID\n",
    "    else\n",
    "        maskout[1]=MISSING\n",
    "    end\n",
    "end\n",
    "CABLAB.DAT.registerDATFunction(varianceTime,(TimeAxis,),());"
   ]
  },
  {
   "cell_type": "markdown",
   "metadata": {
    "deletable": true,
    "editable": true
   },
   "source": [
    "Here we call the function with our 3D data cube as its argument."
   ]
  },
  {
   "cell_type": "code",
   "execution_count": null,
   "metadata": {
    "collapsed": false,
    "deletable": true,
    "editable": true
   },
   "outputs": [],
   "source": [
    "v1             = mapCube(varianceTime,cdata, no_ocean=true);\n",
    "cube_anomalies = mapCube(removeMSC,cdata, no_ocean=true);\n",
    "v2             = mapCube(varianceTime,cube_anomalies, no_ocean=true);"
   ]
  },
  {
   "cell_type": "markdown",
   "metadata": {
    "deletable": true,
    "editable": true
   },
   "source": [
    "And show the maps of variances:"
   ]
  },
  {
   "cell_type": "code",
   "execution_count": null,
   "metadata": {
    "collapsed": false,
    "deletable": true,
    "editable": true,
    "scrolled": false
   },
   "outputs": [],
   "source": [
    "display(plotMAP(v1,dmin=0,dmax=10))\n",
    "display(plotMAP(v2,dmin=0,dmax=1))"
   ]
  },
  {
   "cell_type": "code",
   "execution_count": null,
   "metadata": {
    "collapsed": false,
    "deletable": true,
    "editable": true
   },
   "outputs": [],
   "source": [
    "mv1=reduceCube(mean, v1, (LonAxis,LatAxis), skipnull=true);\n",
    "mv2=reduceCube(mean, v2, (LonAxis,LatAxis), skipnull=true);\n",
    "println(\"Mean variance with seasonal cycle: \", mv1.data[1])\n",
    "println(\"Mean variance without seasonal cycle: \", mv2.data[1])"
   ]
  }
 ],
 "metadata": {
  "anaconda-cloud": {},
  "kernelspec": {
   "display_name": "Julia 0.5.0",
   "language": "julia",
   "name": "julia-0.5"
  },
  "language_info": {
   "file_extension": ".jl",
   "mimetype": "application/julia",
   "name": "julia",
   "version": "0.5.0"
  }
 },
 "nbformat": 4,
 "nbformat_minor": 0
}
