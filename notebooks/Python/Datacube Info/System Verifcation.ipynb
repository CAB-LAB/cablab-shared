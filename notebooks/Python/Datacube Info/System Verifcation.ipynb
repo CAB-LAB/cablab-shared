{
 "cells": [
  {
   "cell_type": "markdown",
   "metadata": {},
   "source": [
    "# System Verification"
   ]
  },
  {
   "cell_type": "markdown",
   "metadata": {},
   "source": [
    "This notebook is used to verify the capabilities of ESDL Jupyterhub as stated in Statement of Work"
   ]
  },
  {
   "cell_type": "markdown",
   "metadata": {},
   "source": [
    "### Datacube"
   ]
  },
  {
   "cell_type": "code",
   "execution_count": null,
   "metadata": {},
   "outputs": [],
   "source": [
    "import os\n",
    "import pandas as pd\n",
    "import time\n",
    "\n",
    "ROOT_CUBE_DIR = '/home/jovyan/work/datacube'\n",
    "CUBE_NAME = 'esdc-8d-0.25deg-1x720x1440-1.0.2_1'  # the newest cube is selected as the default cube name\n",
    "\n",
    "def show_all_datacubes():\n",
    "    cube_names = []\n",
    "    df = pd.DataFrame(columns=['cube_name','temporal_resolution','spatial_resolution','chunk_size','version_name', 'var_nums', 'size_gb', 'last_modified_time'])\n",
    "    total_size = 0\n",
    "    for filename in sorted(os.listdir(ROOT_CUBE_DIR)):\n",
    "        if filename.startswith('esdc') and 'zarr' not in filename:\n",
    "            var_dir = os.path.join(ROOT_CUBE_DIR, filename)\n",
    "            var_list = os.listdir(os.path.join(var_dir,'data'))\n",
    "            cube_names.append(filename)\n",
    "            split = filename.split('-')\n",
    "            size = round(get_dir_size(var_dir), 2)\n",
    "            last_modified_time = time.strftime('%Y%m%d_%H%M%S', time.localtime(os.path.getmtime(var_dir)))\n",
    "            total_size += size\n",
    "            df = df.append({'cube_name': filename, 'temporal_resolution':split[1],'spatial_resolution':split[2],'chunk_size':split[3], 'version_name':split[4], 'var_nums':len(var_list), 'size_gb': size, 'last_modified_time':last_modified_time}, ignore_index=True)\n",
    "    df = df.sort_values(by=['version_name', 'var_nums'], ascending=False)\n",
    "    df = df.append({'cube_name':'TOTAL', 'temporal_resolution':'','spatial_resolution':'','chunk_size':'', 'version_name':'', 'var_nums':'', 'size_gb':total_size, 'last_modified_time':''}, ignore_index=True)\n",
    "    return df\n",
    "\n",
    "def get_dir_size(root_path):\n",
    "    total_size = 0\n",
    "    for path, dirs, files in os.walk(root_path):\n",
    "        for f in files:\n",
    "            fp = os.path.join(path, f)\n",
    "            total_size += os.path.getsize(fp)\n",
    "    return total_size / (1024 * 1024 * 1024)\n",
    "\n"
   ]
  },
  {
   "cell_type": "markdown",
   "metadata": {},
   "source": [
    "#### Here is a list of available datacubes"
   ]
  },
  {
   "cell_type": "markdown",
   "metadata": {},
   "source": [
    "_Done by browsing through the datacubes in the file system_"
   ]
  },
  {
   "cell_type": "code",
   "execution_count": null,
   "metadata": {},
   "outputs": [],
   "source": [
    "show_all_datacubes()"
   ]
  },
  {
   "cell_type": "code",
   "execution_count": null,
   "metadata": {},
   "outputs": [],
   "source": [
    "import matplotlib.pyplot as plt\n",
    "%matplotlib inline\n",
    "from ipywidgets import interact\n",
    "import xarray as xr\n",
    "import warnings\n",
    "warnings.filterwarnings('ignore')\n",
    "\n",
    "def show_available_variables(cube_name=CUBE_NAME):\n",
    "    root_var_dir = f'/home/jovyan/work/datacube/{cube_name}/data'\n",
    "    df = pd.DataFrame(columns=['var_name','start_year','end_year']) \n",
    "    for variable_name in sorted(os.listdir(root_var_dir)):\n",
    "        var_dir = os.path.join(root_var_dir, variable_name)\n",
    "        yearly_files = sorted(os.listdir(var_dir))\n",
    "        ds = xr.open_mfdataset(var_dir + '/*.nc')\n",
    "        start_year = pd.DatetimeIndex([ds.time[0].values])[0].year\n",
    "        end_year = pd.DatetimeIndex([ds.time[-1].values])[0].year\n",
    "        df = df.append({'var_name': variable_name, 'start_year': start_year, 'end_year': end_year}, ignore_index=True)\n",
    "        ds.close()\n",
    "    plot_var_temporal_range(df, cube_name)\n",
    "\n",
    "def plot_var_temporal_range(df, cube_name):\n",
    "    plt.figure(figsize=(16,14))\n",
    "    plt.barh(bottom=df.index.values, width=df.end_year-df.start_year, left=df.start_year, tick_label=df.var_name, color='orange')\n",
    "    plt.title(f'Temporal range for {cube_name}')"
   ]
  },
  {
   "cell_type": "code",
   "execution_count": null,
   "metadata": {},
   "outputs": [],
   "source": [
    "cube_names = []\n",
    "for filename in sorted(os.listdir(ROOT_CUBE_DIR)):\n",
    "    if filename.startswith('esdc') and 'zarr' not in filename:\n",
    "        cube_names.append(filename)"
   ]
  },
  {
   "cell_type": "markdown",
   "metadata": {},
   "source": [
    "#### Available variables on each datacube"
   ]
  },
  {
   "cell_type": "markdown",
   "metadata": {},
   "source": [
    "On the latest datacube, QA4ECV data (black_sky_albedo_avhrr, white_sky_albedo_avhrr, fapar_tip, and leaf_area_index) have been added and the temporal range has been extended. Use the dropdown list below to see temporal range and variable availability for each datacube."
   ]
  },
  {
   "cell_type": "code",
   "execution_count": null,
   "metadata": {},
   "outputs": [],
   "source": [
    "xr.open_dataset('/home/jovyan/work/datacube/esdc-8d-0.0083deg-46x60x60-1.0.2_colombia/data/LSTday/2001_LSTday.nc')"
   ]
  },
  {
   "cell_type": "code",
   "execution_count": null,
   "metadata": {},
   "outputs": [],
   "source": [
    "interact(show_available_variables, cube_name=cube_names)"
   ]
  },
  {
   "cell_type": "markdown",
   "metadata": {},
   "source": [
    "#### A quick way to verify that the data and its attributes in each dataset is valid"
   ]
  },
  {
   "cell_type": "markdown",
   "metadata": {},
   "source": [
    "This is done by plotting each time-step of a single variable using xarray built-in plot() function, which selects some information on the dataset and display them as supporting information on the plot. To select different variable name, use the dropdown list from interact. To select different time step, unfortunately this has to be done manually from the function: change 0 in __ds[var_name][0].plot(figsize=(18,9), aspect='auto')__ to any index value within the valid time range for the selected variable."
   ]
  },
  {
   "cell_type": "code",
   "execution_count": null,
   "metadata": {},
   "outputs": [],
   "source": [
    "var_names = []\n",
    "cube_dir = os.path.join(ROOT_CUBE_DIR, CUBE_NAME, 'data')\n",
    "for filename in sorted(os.listdir(cube_dir)):\n",
    "    var_names.append(filename)"
   ]
  },
  {
   "cell_type": "code",
   "execution_count": null,
   "metadata": {},
   "outputs": [],
   "source": [
    "def plot_single_var_single_time(var_name='air_temperature_2m'):\n",
    "    ds = xr.open_mfdataset(os.path.join(ROOT_CUBE_DIR, CUBE_NAME, 'data', var_name, '*.nc'))\n",
    "    ds[var_name][0].plot(figsize=(18,9), aspect='auto')"
   ]
  },
  {
   "cell_type": "code",
   "execution_count": null,
   "metadata": {},
   "outputs": [],
   "source": [
    "interact(plot_single_var_single_time, var_name=var_names)"
   ]
  },
  {
   "cell_type": "code",
   "execution_count": null,
   "metadata": {},
   "outputs": [],
   "source": []
  }
 ],
 "metadata": {
  "kernelspec": {
   "display_name": "Python 3",
   "language": "python",
   "name": "python3"
  },
  "language_info": {
   "codemirror_mode": {
    "name": "ipython",
    "version": 3
   },
   "file_extension": ".py",
   "mimetype": "text/x-python",
   "name": "python",
   "nbconvert_exporter": "python",
   "pygments_lexer": "ipython3",
   "version": "3.6.3"
  }
 },
 "nbformat": 4,
 "nbformat_minor": 2
}
