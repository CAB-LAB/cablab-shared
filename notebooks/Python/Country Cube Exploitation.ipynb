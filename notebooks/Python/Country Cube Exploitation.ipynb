{
 "cells": [
  {
   "cell_type": "code",
   "execution_count": null,
   "metadata": {
    "collapsed": false
   },
   "outputs": [],
   "source": [
    "import xarray as xr\n",
    "from esdl import Cube\n",
    "import numpy.ma as ma\n",
    "import numpy as np\n",
    "import pandas as pd\n",
    "%matplotlib inline\n",
    "import matplotlib.pyplot as plt\n",
    "from mpl_toolkits.basemap import Basemap\n",
    "import warnings\n",
    "warnings.filterwarnings('ignore')"
   ]
  },
  {
   "cell_type": "code",
   "execution_count": null,
   "metadata": {
    "collapsed": true
   },
   "outputs": [],
   "source": [
    "MERCATOR_PROJECTION = dict(projection='merc',llcrnrlat=-60,urcrnrlat=80, llcrnrlon=-180,urcrnrlon=180,lat_ts=20,resolution='c')\n",
    "ECKERT4_PROJECTION = dict(projection='eck4',lon_0=0,resolution='c')\n",
    "KAVRAYSKIY7_PROJECTION = dict(projection = \"kav7\", lon_0=0., resolution=None)"
   ]
  },
  {
   "cell_type": "code",
   "execution_count": null,
   "metadata": {
    "collapsed": false
   },
   "outputs": [],
   "source": [
    "country_cube_dataset = xr.open_dataset(\"/home/jovyan/work/datacube/country-cube-0.1.0/country_cube.nc\")\n",
    "country_cube_array = country_cube_dataset.to_array(dim=\"Indicator_Codes\")\n",
    "ESDC = xr.open_zarr(\"/home/jovyan/work/datacube/esdc-8d-0.25deg-1x720x1440-1.0.1_1_zarr\")\n",
    "country_code_map = \"/home/jovyan/work/datacube/country-cube-0.1.0/country-codes.csv\""
   ]
  },
  {
   "cell_type": "code",
   "execution_count": null,
   "metadata": {
    "collapsed": false
   },
   "outputs": [],
   "source": [
    "def plot_variable_2d(variable_name, year, title, projection = KAVRAYSKIY7_PROJECTION, save_image = False, **kwargs):\n",
    "    selected_var_array = country_cube_array.sel(Indicator_Codes = variable_name,Year=year)\n",
    "    _map_plot_ccube(selected_var_array, title, proj = projection, save_me=save_image, **kwargs)\n",
    "\n",
    "def _map_plot_ccube(selected_var_array, title_str, **kwargs):\n",
    "    lons, lats = np.meshgrid(ESDC.country_mask.lon,ESDC.country_mask.lat)\n",
    "    country_mask_2D = ESDC.country_mask[0].values\n",
    "    water_mask_2D = ESDC.water_mask[0].values\n",
    "    cdict = _read_ESDC_countrycodes(country_code_map)\n",
    "    # reverse the key and value pair \n",
    "    idict = {v: k for k, v in cdict.items()}\n",
    "    \n",
    "    country_based_data_array = _expand_to_latlon(selected_var_array, country_mask_2D, idict)\n",
    "    masked_country_data_array = ma.array(country_based_data_array, mask =np.isnan(country_based_data_array))\n",
    "    \n",
    "    vmin = kwargs[\"vmin\"] if \"vmin\" in kwargs else None\n",
    "    vmax = kwargs[\"vmax\"] if \"vmax\" in kwargs else None\n",
    "    proj = kwargs[\"proj\"] if \"proj\" in kwargs else dict(projection = \"kav7\", lon_0=0., resolution=None)\n",
    "        \n",
    "    fig = plt.figure(figsize=(18,9))\n",
    "    ax = fig.add_axes([0.05,0.05,0.9,0.9])\n",
    "    m = Basemap(**proj)\n",
    "    m.drawmapboundary(fill_color='0.3')\n",
    "    ccmap = plt.cm.jet\n",
    "    ccmap.set_bad(\"gray\",1.)\n",
    "    im = m.pcolormesh(lons,lats,masked_country_data_array,shading='flat',cmap=ccmap,latlon=True, vmin = vmin, vmax=vmax)\n",
    "    #im2 = m.pcolormesh(lons,lats,nodata,shading='flat',cmap=plt.cm.gist_gray,latlon=True)\n",
    "    m.drawparallels(np.arange(-90.,99.,30.))\n",
    "    m.drawmeridians(np.arange(-180.,180.,60.))\n",
    "    cb = m.colorbar(im,\"bottom\", size=\"5%\", pad=\"2%\")\n",
    "    ax.set_title(title_str)\n",
    "    if \"save_me\" in kwargs:\n",
    "        if kwargs[\"save_me\"] == True:\n",
    "            plt.savefig(title_str[0:15] + '.png',dpi = 600)\n",
    "    ESDC.close()\n",
    "    return fig, ax, m\n",
    "\n",
    "def _read_ESDC_countrycodes(country_code_map_csv, code_type = 'ISO3166-1-Alpha-3'):\n",
    "    df = pd.read_csv(country_code_map_csv)\n",
    "    cc_dict = df.set_index('ISO3166-1-numeric').to_dict()\n",
    "    return cc_dict[code_type]\n",
    "\n",
    "def _expand_to_latlon(var_array, country_mask_2D, idict):\n",
    "    latlon_array = np.empty(country_mask_2D.shape)\n",
    "    latlon_array.fill(np.nan)\n",
    "    for country_array in var_array:\n",
    "        country_code = str(country_array.Country_Codes.values)\n",
    "        if country_code in idict:\n",
    "            country_code_numeric = idict[country_code]\n",
    "            ii = country_mask_2D == country_code_numeric\n",
    "            latlon_array[ii] = country_array.values\n",
    "    return latlon_array"
   ]
  },
  {
   "cell_type": "code",
   "execution_count": null,
   "metadata": {},
   "outputs": [],
   "source": [
    "def plot_covariance(variable1_name, variable2_name, title):\n",
    "    variable1 = country_cube_array.sel(Indicator_Codes = variable1_name)\n",
    "    variable2 = country_cube_array.sel(Indicator_Codes = variable2_name)\n",
    "    cov = get_covariance(variable1, variable2)\n",
    "    _map_plot_ccube(cov, title)\n",
    "\n",
    "def plot_corr_coeff(variable1_name, variable2_name, title):\n",
    "    variable1 = country_cube_array.sel(Indicator_Codes = variable1_name)\n",
    "    variable2 = country_cube_array.sel(Indicator_Codes = variable2_name)\n",
    "    cov = get_covariance(variable1, variable2)\n",
    "    variable1_std = variable1.std(dim=\"Year\")\n",
    "    variable2_std = variable2.std(dim=\"Year\")\n",
    "    corr_coeff = _get_corr_coeff(cov, variable1_std, variable2_std)\n",
    "    _map_plot_ccube(corr_coeff, title)\n",
    "    \n",
    "def get_covariance(variable1_array, variable2_array):\n",
    "    X = (variable1_array - variable1_array.mean(dim=\"Year\", skipna=True))\n",
    "    Y = (variable2_array - variable2_array.mean(dim=\"Year\", skipna=True))\n",
    "    xxyy = X * Y\n",
    "    return xxyy.mean(dim=\"Year\")\n",
    "\n",
    "def _get_corr_coeff(cov, std1, std2):\n",
    "    return cov / (std1 * std2)"
   ]
  },
  {
   "cell_type": "code",
   "execution_count": null,
   "metadata": {
    "collapsed": false
   },
   "outputs": [],
   "source": [
    "burnt_area_2010 = country_cube_array.sel(Indicator_Codes = \"burnt_area\",Year=2010)"
   ]
  },
  {
   "cell_type": "code",
   "execution_count": null,
   "metadata": {
    "collapsed": false
   },
   "outputs": [],
   "source": [
    "plot_variable_2d(\"evaporation\", 2010, \"Evaporation, ESDC, 2010\", projection = MERCATOR_PROJECTION)\n",
    "\n",
    "plot_variable_2d(\"SP.POP.GROW\", 2010, \"Annual Population Growth [%], 2010, Worldbank\", vmin = -2.,vmax = 4.)\n",
    "\n",
    "plot_variable_2d(\"NY.GDP.PCAP.CD\", 2010, \"GDP per capita [$], 2010, Worldbank\", projection = ECKERT4_PROJECTION, vmin = 0.,vmax = 50000.)\n"
   ]
  },
  {
   "cell_type": "code",
   "execution_count": null,
   "metadata": {
    "collapsed": true
   },
   "outputs": [],
   "source": [
    "burnt_area = country_cube_array.sel(Indicator_Codes = \"burnt_area\")\n",
    "pop_growth = country_cube_array.sel(Indicator_Codes = \"SP.POP.GROW\")\n",
    "burnt_area_pop_growth_cov = get_covariance(burnt_area, pop_growth)"
   ]
  },
  {
   "cell_type": "code",
   "execution_count": null,
   "metadata": {
    "collapsed": false
   },
   "outputs": [],
   "source": [
    "plot_covariance(\"air_temperature_2m\", \"NY.GDP.PCAP.CD\", \"Covariance of air temperature and GDP per capita\")"
   ]
  },
  {
   "cell_type": "code",
   "execution_count": null,
   "metadata": {
    "collapsed": true
   },
   "outputs": [],
   "source": [
    "plot_corr_coeff(\"precipitation\", \"NV.AGR.TOTL.ZS\", \"Correlation coefficient of precipitation and Agriculture, value added (% of GDP)\")"
   ]
  },
  {
   "cell_type": "code",
   "execution_count": null,
   "metadata": {},
   "outputs": [],
   "source": [
    "plot_corr_coeff(\"EG.USE.ELEC.KH.PC\", \"c_emissions\", \"Correlation coefficient of C Emissions and Electric power consumption (kWh per capita)\")"
   ]
  },
  {
   "cell_type": "code",
   "execution_count": null,
   "metadata": {},
   "outputs": [],
   "source": []
  }
 ],
 "metadata": {
  "anaconda-cloud": {},
  "kernelspec": {
   "display_name": "Python 3",
   "language": "python",
   "name": "python3"
  },
  "language_info": {
   "codemirror_mode": {
    "name": "ipython",
    "version": 3
   },
   "file_extension": ".py",
   "mimetype": "text/x-python",
   "name": "python",
   "nbconvert_exporter": "python",
   "pygments_lexer": "ipython3",
   "version": "3.6.3"
  }
 },
 "nbformat": 4,
 "nbformat_minor": 2
}
