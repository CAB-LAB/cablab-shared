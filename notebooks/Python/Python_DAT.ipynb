{
 "cells": [
  {
   "cell_type": "markdown",
   "metadata": {
    "deletable": true,
    "editable": true
   },
   "source": [
    "# Earth System Data Cube\n",
    "\n",
    "## The Data Analytics Toolkit for Python\n",
    "\n",
    "This notebook is describes how to use access the Eart System Data Cube (ESDC) using the Python Data Analytics Toolkit (DAT). It is meant as a starting point for the exploaration and analysis of the ESDC. The Python DAT draws heavily on [xarray](http://xarray.pydata.org/en/stable/), a \"pandas-like and pandas-compatible toolkit for analytics on multi-dimensional arrays\". Xarray implements the common data model of Netcdf in memory and nicely conserves the strucutre and all metainformation of the data in the ESDC. Thus, the full power of xarray and dask (for out-of-core computation) is immediatley available ot work with ESDC. \n",
    "\n",
    "In the following, typical steps a first-time user may take to explore the ESDC and common analytical procedures and visualisations are introduced. Note, however, that this example is b yno means exhaustive - the DAT is full ycompatible with the entire Python ecosystem and therefore offers almost unlimited approahces to specific analyitical needs. "
   ]
  },
  {
   "cell_type": "markdown",
   "metadata": {
    "deletable": true,
    "editable": true
   },
   "source": [
    "###  Import the Cablab DAT"
   ]
  },
  {
   "cell_type": "code",
   "execution_count": null,
   "metadata": {
    "collapsed": true,
    "deletable": true,
    "editable": true
   },
   "outputs": [],
   "source": [
    "from cablab import Cube\n",
    "import xarray as xr"
   ]
  },
  {
   "cell_type": "markdown",
   "metadata": {
    "deletable": true,
    "editable": true
   },
   "source": [
    "###  Access Cube on disk"
   ]
  },
  {
   "cell_type": "code",
   "execution_count": null,
   "metadata": {
    "collapsed": false,
    "deletable": true,
    "editable": true
   },
   "outputs": [],
   "source": [
    "ESDC_path = \"/home/jovyan/work/datacube/cablab-datacube-1.0.0/low-res\"\n",
    "cube = Cube.open(ESDC_path)"
   ]
  },
  {
   "cell_type": "markdown",
   "metadata": {
    "deletable": true,
    "editable": true
   },
   "source": [
    "###  Open returns a Cube object "
   ]
  },
  {
   "cell_type": "code",
   "execution_count": null,
   "metadata": {
    "collapsed": false,
    "deletable": true,
    "editable": true
   },
   "outputs": [],
   "source": [
    "cube"
   ]
  },
  {
   "cell_type": "markdown",
   "metadata": {
    "deletable": true,
    "editable": true
   },
   "source": [
    "### List variable names in the Cube"
   ]
  },
  {
   "cell_type": "code",
   "execution_count": null,
   "metadata": {
    "collapsed": false,
    "deletable": true,
    "editable": true
   },
   "outputs": [],
   "source": [
    "cube.data.variable_names"
   ]
  },
  {
   "cell_type": "markdown",
   "metadata": {
    "deletable": true,
    "editable": true
   },
   "source": [
    "###  Data are best handled as xarray datasets. Just like netcdf files, datasets contain dimensions, variables, and further metadata"
   ]
  },
  {
   "cell_type": "code",
   "execution_count": null,
   "metadata": {
    "collapsed": false,
    "deletable": true,
    "editable": true
   },
   "outputs": [],
   "source": [
    "ESDC = cube.data.dataset()\n",
    "ESDC"
   ]
  },
  {
   "cell_type": "code",
   "execution_count": null,
   "metadata": {
    "collapsed": false,
    "deletable": true,
    "editable": true
   },
   "outputs": [],
   "source": [
    "ESDC.precipitation"
   ]
  },
  {
   "cell_type": "markdown",
   "metadata": {
    "collapsed": true,
    "deletable": true,
    "editable": true
   },
   "source": [
    "### The array of values can be also accessed directly"
   ]
  },
  {
   "cell_type": "code",
   "execution_count": null,
   "metadata": {
    "collapsed": false,
    "deletable": true,
    "editable": true
   },
   "outputs": [],
   "source": [
    "ESDC['lon'].values"
   ]
  },
  {
   "cell_type": "markdown",
   "metadata": {
    "deletable": true,
    "editable": true
   },
   "source": [
    "###  xarray offers rich set of built-in convenience functions\n",
    "see the [API reference](http://xarray.pydata.org/en/stable/api.html) for full reference!\n",
    "### Mean over all dimensions"
   ]
  },
  {
   "cell_type": "code",
   "execution_count": null,
   "metadata": {
    "collapsed": false,
    "deletable": true,
    "editable": true
   },
   "outputs": [],
   "source": [
    "ESDC.mean(skipna=True)"
   ]
  },
  {
   "cell_type": "markdown",
   "metadata": {
    "deletable": true,
    "editable": true
   },
   "source": [
    "### Mean over time and latitidue, result is a dataset again"
   ]
  },
  {
   "cell_type": "code",
   "execution_count": null,
   "metadata": {
    "collapsed": false,
    "deletable": true,
    "editable": true
   },
   "outputs": [],
   "source": [
    "precip_avg = ESDC['precipitation'].mean(dim = [\"time\",\"lat\"], skipna=True)"
   ]
  },
  {
   "cell_type": "code",
   "execution_count": null,
   "metadata": {
    "collapsed": false,
    "deletable": true,
    "editable": true
   },
   "outputs": [],
   "source": [
    "precip_avg.compute()"
   ]
  },
  {
   "cell_type": "markdown",
   "metadata": {
    "deletable": true,
    "editable": true
   },
   "source": [
    "###  Simple plotting with xarrays implementation of matplotlib\n",
    "#### import additional libraries"
   ]
  },
  {
   "cell_type": "code",
   "execution_count": null,
   "metadata": {
    "collapsed": false,
    "deletable": true,
    "editable": true
   },
   "outputs": [],
   "source": [
    "import xarray as xr\n",
    "import matplotlib.pyplot as plt\n",
    "import pandas as pd\n",
    "import numpy as np\n",
    "import seaborn as sn"
   ]
  },
  {
   "cell_type": "markdown",
   "metadata": {
    "deletable": true,
    "editable": true
   },
   "source": [
    "### Select 2d image (lat/lon) given a time as integer index"
   ]
  },
  {
   "cell_type": "code",
   "execution_count": null,
   "metadata": {
    "collapsed": false,
    "deletable": true,
    "editable": true
   },
   "outputs": [],
   "source": [
    "precip2d = ESDC.precipitation.isel(time=123)"
   ]
  },
  {
   "cell_type": "code",
   "execution_count": null,
   "metadata": {
    "collapsed": false,
    "deletable": true,
    "editable": true
   },
   "outputs": [],
   "source": [
    "precip2d"
   ]
  },
  {
   "cell_type": "markdown",
   "metadata": {
    "deletable": true,
    "editable": true
   },
   "source": [
    "### or given a specific date"
   ]
  },
  {
   "cell_type": "code",
   "execution_count": null,
   "metadata": {
    "collapsed": false,
    "deletable": true,
    "editable": true
   },
   "outputs": [],
   "source": [
    "precip2d = ESDC['precipitation'].sel(time='2007-04-12', method = 'nearest')\n",
    "precip2d"
   ]
  },
  {
   "cell_type": "code",
   "execution_count": null,
   "metadata": {
    "collapsed": true,
    "deletable": true,
    "editable": true
   },
   "outputs": [],
   "source": [
    "precip1d = ESDC['precipitation'].sel(lon = 12.67,lat = 41.83, method = 'nearest')  "
   ]
  },
  {
   "cell_type": "markdown",
   "metadata": {
    "deletable": true,
    "editable": true
   },
   "source": [
    "#### Plot 2d image with matplotlib"
   ]
  },
  {
   "cell_type": "code",
   "execution_count": null,
   "metadata": {
    "collapsed": false,
    "deletable": true,
    "editable": true
   },
   "outputs": [],
   "source": [
    "precip2d.plot.pcolormesh(vmax = 5)"
   ]
  },
  {
   "cell_type": "markdown",
   "metadata": {
    "deletable": true,
    "editable": true
   },
   "source": [
    "#### Time-series at a given location (here ESRIN), and histogram lf values"
   ]
  },
  {
   "cell_type": "code",
   "execution_count": null,
   "metadata": {
    "collapsed": false,
    "deletable": true,
    "editable": true
   },
   "outputs": [],
   "source": [
    "fig, ax = plt.subplots(figsize = [12,5], ncols=2)\n",
    "\n",
    "precip1d.plot(ax = ax[0], color ='red', marker ='.')\n",
    "ax[0].set_title(\"Precipitation at ESRIN\")\n",
    "precip1d.plot.hist(ax = ax[1], color ='blue')\n",
    "ax[1].set_xlabel(\"precipitation\")\n",
    "plt.tight_layout()"
   ]
  },
  {
   "cell_type": "markdown",
   "metadata": {
    "deletable": true,
    "editable": true
   },
   "source": [
    "### Make use of the known and stable strucutre of all data in the ESDC and create high-level methods for visualization\n"
   ]
  },
  {
   "cell_type": "code",
   "execution_count": null,
   "metadata": {
    "collapsed": true,
    "deletable": true,
    "editable": true
   },
   "outputs": [],
   "source": [
    "from mpl_toolkits.basemap import Basemap\n",
    "from datetime import datetime\n",
    "import warnings\n",
    "warnings.filterwarnings('ignore')"
   ]
  },
  {
   "cell_type": "code",
   "execution_count": null,
   "metadata": {
    "collapsed": false,
    "deletable": true,
    "editable": true
   },
   "outputs": [],
   "source": [
    "def map_plot(ds, var=None, time = 0, title_str='No title', **kwargs):\n",
    "    ''' \n",
    "    Expects a data set and a variable name to plot\n",
    "    \n",
    "    '''\n",
    "    if isinstance(time,int):\n",
    "        res = ds[var].isel(time=time)\n",
    "    elif time is None:\n",
    "        res = ds[var]\n",
    "        time = None\n",
    "    else: \n",
    "        try: \n",
    "            res = ds[var].sel(time=time,method='nearest')\n",
    "        except: \n",
    "            print(\"Wrong date format, should be YYYY-MM-DD\")\n",
    "            raise    \n",
    "   \n",
    "    lons, lats = np.meshgrid(np.array(res.lon),np.array(res.lat))\n",
    "    ma_res = np.ma.array(res, mask =np.isnan(res))\n",
    "    \n",
    "    if \"vmin\" in kwargs:\n",
    "        vmin = kwargs[\"vmin\"] \n",
    "    else:\n",
    "        vmin = None\n",
    "    if \"vmax\" in kwargs:\n",
    "        vmax = kwargs[\"vmax\"] \n",
    "    else:\n",
    "        vmax = None\n",
    "    if title_str == \"No title\":\n",
    "        title_str = var + ' ' +str(time)\n",
    "    else:\n",
    "        title_str = title_str + ' ' +str(res.time.values)[0:10]\n",
    "        \n",
    "    fig = plt.figure()\n",
    "    ax = fig.add_axes([0.05,0.05,0.9,0.9])\n",
    "    m = Basemap(projection='kav7',lon_0=0,resolution=None)\n",
    "    m.drawmapboundary(fill_color='0.3')\n",
    "    ccmap = plt.cm.jet\n",
    "    ccmap.set_bad(\"gray\",1.)\n",
    "    im = m.pcolormesh(lons,lats,ma_res,shading='flat',cmap=ccmap,latlon=True, vmin = vmin, vmax=vmax)\n",
    "    # lay-out \n",
    "    m.drawparallels(np.arange(-90.,99.,30.))\n",
    "    m.drawmeridians(np.arange(-180.,180.,60.))\n",
    "    cb = m.colorbar(im,\"bottom\", size=\"5%\", pad=\"2%\")\n",
    "    cb.set_label(ds[var].attrs['standard_name']+' ('+ds[var].attrs['units']+')')\n",
    "    ax.set_title(title_str)\n",
    "    # write to disk if specified \n",
    "    if \"plot_me\" in kwargs:\n",
    "        if kwargs[\"plot_me\"] == True:\n",
    "            plt.savefig(title_str[0:15] + '.png',dpi = 600)\n",
    "            \n",
    "    fig.set_size_inches(8,12)\n",
    "    return fig ,ax, m"
   ]
  },
  {
   "cell_type": "code",
   "execution_count": null,
   "metadata": {
    "collapsed": true,
    "deletable": true,
    "editable": true
   },
   "outputs": [],
   "source": [
    "def DAT_corr(ds, var1 = None, var2 = None, dim ='time'):\n",
    "   \n",
    "    if not isinstance(ds,xr.Dataset):\n",
    "        print('Input object ',ds,' is no xarray Dataset!')\n",
    "        var1 = None\n",
    "\n",
    "    if var1 is not None:  \n",
    "        if var2 is None: \n",
    "            var2 = var1  \n",
    "        ds_tmean = ds.mean(skipna=True, dim = dim)\n",
    "        ds_tstd =  ds.std(skipna=True, dim = dim)\n",
    "        covar_1 = (ds[var1] - ds_tmean[var1])*(ds[var2] - ds_tmean[var2])\n",
    "        res = covar_1.mean(dim= 'time', skipna=True)/(ds_tstd[var1]*ds_tstd[var2])\n",
    "    else: \n",
    "        res = None\n",
    "        \n",
    "    return res"
   ]
  },
  {
   "cell_type": "code",
   "execution_count": null,
   "metadata": {
    "collapsed": false,
    "deletable": true,
    "editable": true
   },
   "outputs": [],
   "source": [
    "fig, ax, m = map_plot(ESDC,'evaporation','2006-03-01',vmax = 6.)\n"
   ]
  },
  {
   "cell_type": "markdown",
   "metadata": {
    "deletable": true,
    "editable": true
   },
   "source": [
    "#### Subsetting geographical sub-region. Note that the slice of the latitude dimension has to be in reverse order."
   ]
  },
  {
   "cell_type": "code",
   "execution_count": null,
   "metadata": {
    "collapsed": false,
    "deletable": true,
    "editable": true
   },
   "outputs": [],
   "source": [
    "Europe = ESDC.sel(lat = slice(70.,30.), lon = slice(-20.,35.))"
   ]
  },
  {
   "cell_type": "code",
   "execution_count": null,
   "metadata": {
    "collapsed": false,
    "deletable": true,
    "editable": true
   },
   "outputs": [],
   "source": [
    "Europe.mean(dim='time',skipna=True).soil_moisture.plot()"
   ]
  },
  {
   "cell_type": "markdown",
   "metadata": {
    "deletable": true,
    "editable": true
   },
   "source": [
    "#### Seasonal averages"
   ]
  },
  {
   "cell_type": "code",
   "execution_count": null,
   "metadata": {
    "collapsed": false,
    "deletable": true,
    "editable": true
   },
   "outputs": [],
   "source": [
    "Air_temp_monthly = Europe.air_temperature_2m.groupby('time.month').mean(dim='time')"
   ]
  },
  {
   "cell_type": "code",
   "execution_count": null,
   "metadata": {
    "collapsed": false
   },
   "outputs": [],
   "source": [
    "Air_temp_monthly.plot.imshow(x='lon',y='lat',col='month',col_wrap=3)"
   ]
  },
  {
   "cell_type": "markdown",
   "metadata": {
    "deletable": true,
    "editable": true
   },
   "source": [
    "#### Zscores"
   ]
  },
  {
   "cell_type": "code",
   "execution_count": null,
   "metadata": {
    "collapsed": false,
    "deletable": true,
    "editable": true
   },
   "outputs": [],
   "source": [
    "Europe_zscore = (Europe-Europe.mean(dim='time'))/Europe.std(dim='time')"
   ]
  },
  {
   "cell_type": "code",
   "execution_count": null,
   "metadata": {
    "collapsed": false,
    "deletable": true,
    "editable": true
   },
   "outputs": [],
   "source": [
    "ESRIN_zscore = Europe_zscore.sel(lon = 12.67,lat = 41.83, method = 'nearest')\n",
    "ESRIN_zscore.precipitation.plot()"
   ]
  },
  {
   "cell_type": "markdown",
   "metadata": {
    "deletable": true,
    "editable": true
   },
   "source": [
    "#### Using apply() to apply any arbitrary function to all variables in the dataset"
   ]
  },
  {
   "cell_type": "code",
   "execution_count": null,
   "metadata": {
    "collapsed": false,
    "deletable": true,
    "editable": true
   },
   "outputs": [],
   "source": [
    "Europe.apply(np.nanmax)"
   ]
  },
  {
   "cell_type": "markdown",
   "metadata": {
    "deletable": true,
    "editable": true
   },
   "source": [
    "### Define own fucntion for anomaly detection. "
   ]
  },
  {
   "cell_type": "code",
   "execution_count": null,
   "metadata": {
    "collapsed": true,
    "deletable": true,
    "editable": true
   },
   "outputs": [],
   "source": [
    "def above_Nsigma(x,Nsigma):\n",
    "    return xr.ufuncs.fabs(x)>Nsigma"
   ]
  },
  {
   "cell_type": "code",
   "execution_count": null,
   "metadata": {
    "collapsed": false,
    "deletable": true,
    "editable": true
   },
   "outputs": [],
   "source": [
    "res = Europe_zscore.apply(above_Nsigma,Nsigma = 2)"
   ]
  },
  {
   "cell_type": "code",
   "execution_count": null,
   "metadata": {
    "collapsed": false,
    "deletable": true,
    "editable": true
   },
   "outputs": [],
   "source": [
    "fig2, ax2 = plt.subplots(figsize = [12,5], ncols=2)\n",
    "\n",
    "res[\"precipitation\"].sum(dim=\"time\").plot(ax = ax2[0])\n",
    "ax2[0].set_title(\"No of obs above or below 2 sigma\")\n",
    "\n",
    "res[\"evaporation\"].sum(dim=\"time\").plot(ax = ax2[1])\n",
    "ax2[1].set_title(\"No of obs above or below 2 sigma\")\n",
    "\n",
    "plt.tight_layout()\n",
    "\n"
   ]
  },
  {
   "cell_type": "code",
   "execution_count": null,
   "metadata": {
    "collapsed": false,
    "deletable": true,
    "editable": true
   },
   "outputs": [],
   "source": [
    "df = Europe_zscore.to_dataframe()\n",
    "df.boxplot(column=[\"precipitation\",\"evaporation\",\"soil_moisture\",\"ozone\"])"
   ]
  },
  {
   "cell_type": "code",
   "execution_count": null,
   "metadata": {
    "collapsed": false
   },
   "outputs": [],
   "source": [
    "df"
   ]
  },
  {
   "cell_type": "code",
   "execution_count": null,
   "metadata": {
    "collapsed": false
   },
   "outputs": [],
   "source": [
    "sn.boxplot(df[['precipitation','evaporation','soil_moisture','air_temperature_2m','ozone']])"
   ]
  },
  {
   "cell_type": "markdown",
   "metadata": {
    "deletable": true,
    "editable": true
   },
   "source": [
    "### Compute correlationbetween arbitrary variables in the ESDC"
   ]
  },
  {
   "cell_type": "code",
   "execution_count": null,
   "metadata": {
    "collapsed": false,
    "deletable": true,
    "editable": true
   },
   "outputs": [],
   "source": [
    "cv = DAT_corr(ESDC, 'precipitation', 'evaporation')"
   ]
  },
  {
   "cell_type": "code",
   "execution_count": null,
   "metadata": {
    "collapsed": false,
    "deletable": true,
    "editable": true
   },
   "outputs": [],
   "source": [
    "cv.plot.imshow(vmin = -1., vmax = 1.)"
   ]
  },
  {
   "cell_type": "markdown",
   "metadata": {
    "deletable": true,
    "editable": true
   },
   "source": [
    "#### Test if function works as expected: correlation of var with itself should be 1."
   ]
  },
  {
   "cell_type": "code",
   "execution_count": null,
   "metadata": {
    "collapsed": false,
    "deletable": true,
    "editable": true
   },
   "outputs": [],
   "source": [
    "cv2 = DAT_corr(ESDC, 'precipitation', 'precipitation')\n",
    "cv2.plot.imshow(vmin = 0.5, vmax = 1.5)"
   ]
  }
 ],
 "metadata": {
  "kernelspec": {
   "display_name": "Python 3",
   "language": "python",
   "name": "python3"
  },
  "language_info": {
   "codemirror_mode": {
    "name": "ipython",
    "version": 3
   },
   "file_extension": ".py",
   "mimetype": "text/x-python",
   "name": "python",
   "nbconvert_exporter": "python",
   "pygments_lexer": "ipython3",
   "version": "3.5.2"
  }
 },
 "nbformat": 4,
 "nbformat_minor": 2
}
