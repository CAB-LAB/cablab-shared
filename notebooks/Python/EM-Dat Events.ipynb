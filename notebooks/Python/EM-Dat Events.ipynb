{
 "cells": [
  {
   "cell_type": "markdown",
   "metadata": {},
   "source": [
    "### Accessing aggregate statistics of the ESDC before, during and after Natural desasters\n",
    "\n",
    "In this notebook we demonstrate how users can easily access time series before and after an event that was reported in\n",
    "the [EM-DAT database](https://www.emdat.be/). The datacube data was aggregated for several variables over the municipalities where the event was reported. \n",
    "Time series were generated starting from 64 days prior to the reported start of the event until 64 days after the reported start of the event. An additional \n",
    "aggregation was done for different land cover types to appreciate the fact that different ecosystems like grasslands, forests and agricultural areas respond differently to events like droughts and heatwaves. \n",
    "\n",
    "As a note of caution: The data here are strictly aggregated to the administrative units where the event happened. This does not guarantee, that the actual event will be captured since there might be a mismatch between the actual event extent and the admin unit where the event occured. ."
   ]
  },
  {
   "cell_type": "markdown",
   "metadata": {},
   "source": [
    "### Loading the aggregated data\n",
    "\n",
    "First we access the aggregated data from the publicly available S3 Store and load them into an xarray"
   ]
  },
  {
   "cell_type": "code",
   "execution_count": null,
   "metadata": {},
   "outputs": [],
   "source": [
    "import s3fs\n",
    "import xarray as xr\n",
    "import matplotlib.pyplot as plt\n",
    "import numpy as np\n",
    "\n",
    "s3 = s3fs.S3FileSystem(anon=True,client_kwargs = {'endpoint_url' : \"https://obs.eu-de.otc.t-systems.com/\"})\n",
    "st = s3fs.S3Map(root=\"obs-esdc-v2.1/esdc-aggregated-emdat.zarr\", s3=s3, check=False)\n",
    "ds = xr.open_zarr(st)"
   ]
  },
  {
   "cell_type": "markdown",
   "metadata": {},
   "source": [
    "This returns an xarray dataset each variables having the followinig dimensions:\n",
    "    \n",
    "- **Event** This denotes the different events contained in the EM-DAT database\n",
    "- **Landcover** Landcover type over which the aggregation was performed\n",
    "- **Time** Time in days relative to the start of the event\n",
    "- **Units** denotes if the aggregation was done on the raw data or on z-transformed anomalies"
   ]
  },
  {
   "cell_type": "code",
   "execution_count": null,
   "metadata": {},
   "outputs": [],
   "source": [
    "ds"
   ]
  },
  {
   "cell_type": "markdown",
   "metadata": {},
   "source": [
    "Assume now we are interested in the drought in China from 2006. From the EM-DAT Database we get the year (2006), sequence number (9741) and ISO code (CHN) of the country. The we can subset the dataset to this event:"
   ]
  },
  {
   "cell_type": "code",
   "execution_count": null,
   "metadata": {},
   "outputs": [],
   "source": [
    "chn_2006 = ds.sel(Event=b'2006_9741_CHN')"
   ]
  },
  {
   "cell_type": "markdown",
   "metadata": {},
   "source": [
    "Since this was a drought, let us look at the time series for the surface moisture prior to the event and after the start of the event for different land cover tyoes:"
   ]
  },
  {
   "cell_type": "code",
   "execution_count": null,
   "metadata": {},
   "outputs": [],
   "source": [
    "chn_2006.sel(Units=b'Original').surface_moisture.plot.line(x='Time')\n",
    "lcnames = [v.decode(\"utf8\") for v in chn_2006.Landcover.values]\n",
    "plt.legend(lcnames,loc='upper left')\n",
    "plt.title(\"Surface moisture in different land cover types before and after start of the reported drought\");"
   ]
  },
  {
   "cell_type": "markdown",
   "metadata": {},
   "source": [
    "One can see that for aggregated over all land cover types the surface moisture seems to be quite stable. However, splitting the data by landcover shows the reduced moisture in grasslands which reverted to higher values a few weeks after the start of the event. "
   ]
  },
  {
   "cell_type": "code",
   "execution_count": null,
   "metadata": {},
   "outputs": [],
   "source": []
  }
 ],
 "metadata": {
  "kernelspec": {
   "display_name": "Python 3",
   "language": "python",
   "name": "python3"
  },
  "language_info": {
   "codemirror_mode": {
    "name": "ipython",
    "version": 3
   },
   "file_extension": ".py",
   "mimetype": "text/x-python",
   "name": "python",
   "nbconvert_exporter": "python",
   "pygments_lexer": "ipython3",
   "version": "3.7.6"
  }
 },
 "nbformat": 4,
 "nbformat_minor": 4
}
